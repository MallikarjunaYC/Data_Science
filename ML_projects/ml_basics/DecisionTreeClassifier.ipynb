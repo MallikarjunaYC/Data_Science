{
 "cells": [
  {
   "cell_type": "code",
   "execution_count": 6,
   "id": "c145b15b-5e65-4f5e-9ffa-e86e359182cc",
   "metadata": {},
   "outputs": [],
   "source": [
    "import json\n",
    "from sklearn.tree import DecisionTreeClassifier\n",
    "\n",
    "# Assuming 'json_data' is the variable containing the JSON snippet\n",
    "json_data = {\n",
    "    \"DecisionTree\": {\n",
    "        \"model\": \"DecisionTreeClassifier\",\n",
    "        \"params\": {\n",
    "            \"criterion\": \"gini\",  # or \"entropy\"\n",
    "            \"splitter\": \"best\",   # or \"random\"\n",
    "            \"max_depth\": None,    # or a specific value\n",
    "            \"min_samples_split\": 2,\n",
    "            \"min_samples_leaf\": 1,\n",
    "            \"max_features\": None\n",
    "        }\n",
    "    }\n",
    "}\n",
    "\n",
    "\n",
    "# Access the parameters\n",
    "decision_tree_params = json_data[\"DecisionTree\"][\"params\"]\n",
    "\n",
    "# Create a DecisionTreeClassifier with the specified parameters\n",
    "clf = DecisionTreeClassifier(**decision_tree_params)\n",
    "\n",
    "# Now 'clf' is a DecisionTreeClassifier with the specified parameters\n"
   ]
  },
  {
   "cell_type": "code",
   "execution_count": null,
   "id": "45e41510-dd74-479b-bc2c-702f5a769d27",
   "metadata": {},
   "outputs": [],
   "source": []
  }
 ],
 "metadata": {
  "kernelspec": {
   "display_name": "Python 3 (ipykernel)",
   "language": "python",
   "name": "python3"
  },
  "language_info": {
   "codemirror_mode": {
    "name": "ipython",
    "version": 3
   },
   "file_extension": ".py",
   "mimetype": "text/x-python",
   "name": "python",
   "nbconvert_exporter": "python",
   "pygments_lexer": "ipython3",
   "version": "3.8.10"
  }
 },
 "nbformat": 4,
 "nbformat_minor": 5
}
