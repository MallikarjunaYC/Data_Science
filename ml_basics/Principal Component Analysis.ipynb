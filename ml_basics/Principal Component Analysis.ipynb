{
 "cells": [
  {
   "cell_type": "markdown",
   "id": "25682aae-8105-4256-9989-34d4a3209b85",
   "metadata": {},
   "source": [
    "used PCA for predicting heart disease\n",
    "have used one hot encoding to convert string columns to numbers so that we can use Z score to remove outliers\n",
    "compared the results of just Logistic Regression and \n",
    "doing PCA and then Logistic Regression. Doing PCA has not helped in this case instead knn classifier, RandomForest, SVC models has helped. Among knn classifier, RandomForest and SVC models, SVC gives the best score."
   ]
  },
  {
   "cell_type": "code",
   "execution_count": 42,
   "id": "7b84571f-6460-4b0f-bbf8-0b40d7e034e0",
   "metadata": {},
   "outputs": [
    {
     "data": {
      "text/html": [
       "<div>\n",
       "<style scoped>\n",
       "    .dataframe tbody tr th:only-of-type {\n",
       "        vertical-align: middle;\n",
       "    }\n",
       "\n",
       "    .dataframe tbody tr th {\n",
       "        vertical-align: top;\n",
       "    }\n",
       "\n",
       "    .dataframe thead th {\n",
       "        text-align: right;\n",
       "    }\n",
       "</style>\n",
       "<table border=\"1\" class=\"dataframe\">\n",
       "  <thead>\n",
       "    <tr style=\"text-align: right;\">\n",
       "      <th></th>\n",
       "      <th>Age</th>\n",
       "      <th>Sex</th>\n",
       "      <th>ChestPainType</th>\n",
       "      <th>RestingBP</th>\n",
       "      <th>Cholesterol</th>\n",
       "      <th>FastingBS</th>\n",
       "      <th>RestingECG</th>\n",
       "      <th>MaxHR</th>\n",
       "      <th>ExerciseAngina</th>\n",
       "      <th>Oldpeak</th>\n",
       "      <th>ST_Slope</th>\n",
       "      <th>HeartDisease</th>\n",
       "    </tr>\n",
       "  </thead>\n",
       "  <tbody>\n",
       "    <tr>\n",
       "      <th>0</th>\n",
       "      <td>40</td>\n",
       "      <td>M</td>\n",
       "      <td>ATA</td>\n",
       "      <td>140</td>\n",
       "      <td>289</td>\n",
       "      <td>0</td>\n",
       "      <td>Normal</td>\n",
       "      <td>172</td>\n",
       "      <td>N</td>\n",
       "      <td>0.0</td>\n",
       "      <td>Up</td>\n",
       "      <td>0</td>\n",
       "    </tr>\n",
       "    <tr>\n",
       "      <th>1</th>\n",
       "      <td>49</td>\n",
       "      <td>F</td>\n",
       "      <td>NAP</td>\n",
       "      <td>160</td>\n",
       "      <td>180</td>\n",
       "      <td>0</td>\n",
       "      <td>Normal</td>\n",
       "      <td>156</td>\n",
       "      <td>N</td>\n",
       "      <td>1.0</td>\n",
       "      <td>Flat</td>\n",
       "      <td>1</td>\n",
       "    </tr>\n",
       "    <tr>\n",
       "      <th>2</th>\n",
       "      <td>37</td>\n",
       "      <td>M</td>\n",
       "      <td>ATA</td>\n",
       "      <td>130</td>\n",
       "      <td>283</td>\n",
       "      <td>0</td>\n",
       "      <td>ST</td>\n",
       "      <td>98</td>\n",
       "      <td>N</td>\n",
       "      <td>0.0</td>\n",
       "      <td>Up</td>\n",
       "      <td>0</td>\n",
       "    </tr>\n",
       "    <tr>\n",
       "      <th>3</th>\n",
       "      <td>48</td>\n",
       "      <td>F</td>\n",
       "      <td>ASY</td>\n",
       "      <td>138</td>\n",
       "      <td>214</td>\n",
       "      <td>0</td>\n",
       "      <td>Normal</td>\n",
       "      <td>108</td>\n",
       "      <td>Y</td>\n",
       "      <td>1.5</td>\n",
       "      <td>Flat</td>\n",
       "      <td>1</td>\n",
       "    </tr>\n",
       "    <tr>\n",
       "      <th>4</th>\n",
       "      <td>54</td>\n",
       "      <td>M</td>\n",
       "      <td>NAP</td>\n",
       "      <td>150</td>\n",
       "      <td>195</td>\n",
       "      <td>0</td>\n",
       "      <td>Normal</td>\n",
       "      <td>122</td>\n",
       "      <td>N</td>\n",
       "      <td>0.0</td>\n",
       "      <td>Up</td>\n",
       "      <td>0</td>\n",
       "    </tr>\n",
       "  </tbody>\n",
       "</table>\n",
       "</div>"
      ],
      "text/plain": [
       "   Age Sex ChestPainType  RestingBP  Cholesterol  FastingBS RestingECG  MaxHR   \n",
       "0   40   M           ATA        140          289          0     Normal    172  \\\n",
       "1   49   F           NAP        160          180          0     Normal    156   \n",
       "2   37   M           ATA        130          283          0         ST     98   \n",
       "3   48   F           ASY        138          214          0     Normal    108   \n",
       "4   54   M           NAP        150          195          0     Normal    122   \n",
       "\n",
       "  ExerciseAngina  Oldpeak ST_Slope  HeartDisease  \n",
       "0              N      0.0       Up             0  \n",
       "1              N      1.0     Flat             1  \n",
       "2              N      0.0       Up             0  \n",
       "3              Y      1.5     Flat             1  \n",
       "4              N      0.0       Up             0  "
      ]
     },
     "execution_count": 42,
     "metadata": {},
     "output_type": "execute_result"
    }
   ],
   "source": [
    "from sklearn.datasets import load_digits\n",
    "import pandas as pd\n",
    "\n",
    "df = pd.read_csv('heart.csv')\n",
    "df_sample = df\n",
    "df.head()"
   ]
  },
  {
   "cell_type": "code",
   "execution_count": 43,
   "id": "5a9c024d-6c72-4653-a083-cb34876a60e6",
   "metadata": {},
   "outputs": [
    {
     "name": "stdout",
     "output_type": "stream",
     "text": [
      "Null Values:\n",
      "       Age    Sex  ChestPainType  RestingBP  Cholesterol  FastingBS   \n",
      "0    False  False          False      False        False      False  \\\n",
      "1    False  False          False      False        False      False   \n",
      "2    False  False          False      False        False      False   \n",
      "3    False  False          False      False        False      False   \n",
      "4    False  False          False      False        False      False   \n",
      "..     ...    ...            ...        ...          ...        ...   \n",
      "913  False  False          False      False        False      False   \n",
      "914  False  False          False      False        False      False   \n",
      "915  False  False          False      False        False      False   \n",
      "916  False  False          False      False        False      False   \n",
      "917  False  False          False      False        False      False   \n",
      "\n",
      "     RestingECG  MaxHR  ExerciseAngina  Oldpeak  ST_Slope  HeartDisease  \n",
      "0         False  False           False    False     False         False  \n",
      "1         False  False           False    False     False         False  \n",
      "2         False  False           False    False     False         False  \n",
      "3         False  False           False    False     False         False  \n",
      "4         False  False           False    False     False         False  \n",
      "..          ...    ...             ...      ...       ...           ...  \n",
      "913       False  False           False    False     False         False  \n",
      "914       False  False           False    False     False         False  \n",
      "915       False  False           False    False     False         False  \n",
      "916       False  False           False    False     False         False  \n",
      "917       False  False           False    False     False         False  \n",
      "\n",
      "[918 rows x 12 columns]\n",
      "\n",
      "Null Value Counts:\n",
      "Age               0\n",
      "Sex               0\n",
      "ChestPainType     0\n",
      "RestingBP         0\n",
      "Cholesterol       0\n",
      "FastingBS         0\n",
      "RestingECG        0\n",
      "MaxHR             0\n",
      "ExerciseAngina    0\n",
      "Oldpeak           0\n",
      "ST_Slope          0\n",
      "HeartDisease      0\n",
      "dtype: int64\n"
     ]
    }
   ],
   "source": [
    "# Find and display null values in the DataFrame\n",
    "null_values = df.isnull()\n",
    "print(\"Null Values:\")\n",
    "print(null_values)\n",
    "\n",
    "# Count and display the total number of null values in each column\n",
    "null_counts = df.isnull().sum()\n",
    "print(\"\\nNull Value Counts:\")\n",
    "print(null_counts)"
   ]
  },
  {
   "cell_type": "code",
   "execution_count": 44,
   "id": "4ff8553f-a60e-4013-bc77-a7e40c630d94",
   "metadata": {},
   "outputs": [
    {
     "name": "stdout",
     "output_type": "stream",
     "text": [
      "<class 'pandas.core.frame.DataFrame'>\n",
      "RangeIndex: 918 entries, 0 to 917\n",
      "Data columns (total 12 columns):\n",
      " #   Column          Non-Null Count  Dtype  \n",
      "---  ------          --------------  -----  \n",
      " 0   Age             918 non-null    int64  \n",
      " 1   Sex             918 non-null    object \n",
      " 2   ChestPainType   918 non-null    object \n",
      " 3   RestingBP       918 non-null    int64  \n",
      " 4   Cholesterol     918 non-null    int64  \n",
      " 5   FastingBS       918 non-null    int64  \n",
      " 6   RestingECG      918 non-null    object \n",
      " 7   MaxHR           918 non-null    int64  \n",
      " 8   ExerciseAngina  918 non-null    object \n",
      " 9   Oldpeak         918 non-null    float64\n",
      " 10  ST_Slope        918 non-null    object \n",
      " 11  HeartDisease    918 non-null    int64  \n",
      "dtypes: float64(1), int64(6), object(5)\n",
      "memory usage: 86.2+ KB\n"
     ]
    }
   ],
   "source": [
    "df.info()"
   ]
  },
  {
   "cell_type": "code",
   "execution_count": 45,
   "id": "bb0737c9-27de-445d-9053-c487c045e4c7",
   "metadata": {},
   "outputs": [],
   "source": [
    "# use one hot encoding to convert string values to integer\n",
    "from sklearn.preprocessing import LabelEncoder\n",
    "le = LabelEncoder()"
   ]
  },
  {
   "cell_type": "code",
   "execution_count": 47,
   "id": "8158f829-ab0b-45ca-9a31-bdd70c36ef13",
   "metadata": {},
   "outputs": [],
   "source": [
    "# Apply label encoding to each column separately\n",
    "columns_to_encode = ['Sex', 'ChestPainType', 'RestingECG', 'ExerciseAngina', 'ST_Slope']\n",
    "for column in columns_to_encode:\n",
    "    df[column] = le.fit_transform(df[column])"
   ]
  },
  {
   "cell_type": "code",
   "execution_count": 48,
   "id": "abcfa957-c1c9-4418-aa0b-b8fc65a4b844",
   "metadata": {},
   "outputs": [
    {
     "name": "stdout",
     "output_type": "stream",
     "text": [
      "     Age  Sex  ChestPainType  RestingBP  Cholesterol  FastingBS  RestingECG   \n",
      "0     40    1              1        140          289          0           1  \\\n",
      "1     49    0              2        160          180          0           1   \n",
      "2     37    1              1        130          283          0           2   \n",
      "3     48    0              0        138          214          0           1   \n",
      "4     54    1              2        150          195          0           1   \n",
      "..   ...  ...            ...        ...          ...        ...         ...   \n",
      "913   45    1              3        110          264          0           1   \n",
      "914   68    1              0        144          193          1           1   \n",
      "915   57    1              0        130          131          0           1   \n",
      "916   57    0              1        130          236          0           0   \n",
      "917   38    1              2        138          175          0           1   \n",
      "\n",
      "     MaxHR  ExerciseAngina  Oldpeak  ST_Slope  HeartDisease  \n",
      "0      172               0      0.0         2             0  \n",
      "1      156               0      1.0         1             1  \n",
      "2       98               0      0.0         2             0  \n",
      "3      108               1      1.5         1             1  \n",
      "4      122               0      0.0         2             0  \n",
      "..     ...             ...      ...       ...           ...  \n",
      "913    132               0      1.2         1             1  \n",
      "914    141               0      3.4         1             1  \n",
      "915    115               1      1.2         1             1  \n",
      "916    174               0      0.0         1             1  \n",
      "917    173               0      0.0         2             0  \n",
      "\n",
      "[918 rows x 12 columns]\n"
     ]
    }
   ],
   "source": [
    "# Display the updated DataFrame\n",
    "print(df)"
   ]
  },
  {
   "cell_type": "code",
   "execution_count": 50,
   "id": "2fe5c0c5-4d0b-434c-b86f-d57b51140b52",
   "metadata": {},
   "outputs": [],
   "source": [
    "import pandas as pd\n",
    "import numpy as np\n",
    "\n",
    "def remove_outliers_zscore(df, columns, threshold=3):\n",
    "    z_scores = np.abs((df[columns] - df[columns].mean()) / df[columns].std())\n",
    "    outliers = (z_scores > threshold).any(axis=1)\n",
    "    cleaned_df = df[~outliers]\n",
    "    return cleaned_df\n",
    "\n",
    "# Example usage\n",
    "\n",
    "columns_to_check = df.columns\n",
    "cleaned_df = remove_outliers_zscore(df, columns_to_check)\n",
    "\n",
    "# print(\"Original DataFrame:\")\n",
    "# print(df)\n",
    "# print(\"\\nCleaned DataFrame:\")\n",
    "# print(cleaned_df)\n"
   ]
  },
  {
   "cell_type": "code",
   "execution_count": 53,
   "id": "fca290d7-2820-48dd-a112-98b00e059ecd",
   "metadata": {},
   "outputs": [],
   "source": [
    "X = df.drop('HeartDisease', axis = 'columns')\n",
    "y = df['HeartDisease']"
   ]
  },
  {
   "cell_type": "code",
   "execution_count": 54,
   "id": "c1c9ea11-5ddf-4fbd-abd0-b22180c5b976",
   "metadata": {},
   "outputs": [
    {
     "data": {
      "text/plain": [
       "array([[-1.4331398 ,  0.51595242,  0.22903206, ..., -0.8235563 ,\n",
       "        -0.83243239,  1.05211381],\n",
       "       [-0.47848359, -1.93816322,  1.27505906, ..., -0.8235563 ,\n",
       "         0.10566353, -0.59607813],\n",
       "       [-1.75135854,  0.51595242,  0.22903206, ..., -0.8235563 ,\n",
       "        -0.83243239,  1.05211381],\n",
       "       ...,\n",
       "       [ 0.37009972,  0.51595242, -0.81699495, ...,  1.21424608,\n",
       "         0.29328271, -0.59607813],\n",
       "       [ 0.37009972, -1.93816322,  0.22903206, ..., -0.8235563 ,\n",
       "        -0.83243239, -0.59607813],\n",
       "       [-1.64528563,  0.51595242,  1.27505906, ..., -0.8235563 ,\n",
       "        -0.83243239,  1.05211381]])"
      ]
     },
     "execution_count": 54,
     "metadata": {},
     "output_type": "execute_result"
    }
   ],
   "source": [
    "from sklearn.preprocessing import StandardScaler\n",
    "\n",
    "scaler = StandardScaler()\n",
    "X_scaled = scaler.fit_transform(X)\n",
    "X_scaled"
   ]
  },
  {
   "cell_type": "code",
   "execution_count": 55,
   "id": "d5049dcf-7a59-4e1e-9e87-1302352ba40f",
   "metadata": {},
   "outputs": [],
   "source": [
    "from sklearn.model_selection import train_test_split\n",
    "\n",
    "X_train, X_test, y_train, y_test = train_test_split(X_scaled, y, test_size=0.2, random_state=30)"
   ]
  },
  {
   "cell_type": "markdown",
   "id": "f8e454e7-affc-4644-ac58-71ef1160baeb",
   "metadata": {},
   "source": [
    "using LogisticRegression"
   ]
  },
  {
   "cell_type": "code",
   "execution_count": 56,
   "id": "b5766168-5e04-4b57-8383-3ab4dded75fb",
   "metadata": {},
   "outputs": [
    {
     "data": {
      "text/plain": [
       "0.8369565217391305"
      ]
     },
     "execution_count": 56,
     "metadata": {},
     "output_type": "execute_result"
    }
   ],
   "source": [
    "from sklearn.linear_model import LogisticRegression\n",
    "\n",
    "model = LogisticRegression()\n",
    "model.fit(X_train, y_train)\n",
    "model.score(X_test, y_test)"
   ]
  },
  {
   "cell_type": "code",
   "execution_count": 99,
   "id": "597c4c2d-6cf4-4ed2-b652-a22209b9a34f",
   "metadata": {},
   "outputs": [
    {
     "data": {
      "text/plain": [
       "0.875"
      ]
     },
     "execution_count": 99,
     "metadata": {},
     "output_type": "execute_result"
    }
   ],
   "source": [
    "from sklearn.svm import SVC\n",
    "model = SVC()\n",
    "model.fit(X_train, y_train)\n",
    "model.score(X_test, y_test)"
   ]
  },
  {
   "cell_type": "markdown",
   "id": "6ed89c73-d1b6-43d1-80a7-b9fbe1ccba30",
   "metadata": {},
   "source": [
    "using RandomForestClassifier"
   ]
  },
  {
   "cell_type": "code",
   "execution_count": 88,
   "id": "76fcbaea-c87e-488e-9296-463c9b6aeb03",
   "metadata": {},
   "outputs": [
    {
     "data": {
      "text/plain": [
       "0.8532608695652174"
      ]
     },
     "execution_count": 88,
     "metadata": {},
     "output_type": "execute_result"
    }
   ],
   "source": [
    "from sklearn.ensemble import RandomForestClassifier\n",
    "model = RandomForestClassifier(n_estimators = 10)\n",
    "model.fit(X_train, y_train)\n",
    "model.score(X_test, y_test)"
   ]
  },
  {
   "cell_type": "code",
   "execution_count": null,
   "id": "2ba4cfcd-7cd7-434e-b1d9-21739906eecd",
   "metadata": {},
   "outputs": [],
   "source": [
    "using knn classifier"
   ]
  },
  {
   "cell_type": "code",
   "execution_count": 98,
   "id": "0f4a1407-d602-439a-bf15-79d09dce62db",
   "metadata": {},
   "outputs": [
    {
     "name": "stdout",
     "output_type": "stream",
     "text": [
      "Accuracy: 0.8532608695652174\n",
      "Classification Report:\n",
      "               precision    recall  f1-score   support\n",
      "\n",
      "           0       0.85      0.82      0.84        84\n",
      "           1       0.85      0.88      0.87       100\n",
      "\n",
      "    accuracy                           0.85       184\n",
      "   macro avg       0.85      0.85      0.85       184\n",
      "weighted avg       0.85      0.85      0.85       184\n",
      "\n"
     ]
    }
   ],
   "source": [
    "from sklearn.neighbors import KNeighborsClassifier\n",
    "from sklearn.metrics import accuracy_score, classification_report\n",
    "\n",
    "# Create a KNN classifier\n",
    "knn_classifier = KNeighborsClassifier(n_neighbors=3)  # You can adjust the value of 'n_neighbors'\n",
    "\n",
    "# Fit the classifier on the training data\n",
    "knn_classifier.fit(X_train, y_train)\n",
    "\n",
    "# Make predictions on the testing data\n",
    "y_pred = knn_classifier.predict(X_test)\n",
    "\n",
    "# Evaluate the classifier\n",
    "accuracy = accuracy_score(y_test, y_pred)\n",
    "print(\"Accuracy:\", accuracy)\n",
    "\n",
    "# Print classification report\n",
    "print(\"Classification Report:\\n\", classification_report(y_test, y_pred))"
   ]
  },
  {
   "cell_type": "markdown",
   "id": "23764590-9c99-44b1-8054-52798c5e5948",
   "metadata": {},
   "source": [
    "Use PCA to reduce dimensions"
   ]
  },
  {
   "cell_type": "code",
   "execution_count": 93,
   "id": "561c719b-848b-426d-a321-0683b4a84bc5",
   "metadata": {},
   "outputs": [
    {
     "data": {
      "text/plain": [
       "(918, 6)"
      ]
     },
     "execution_count": 93,
     "metadata": {},
     "output_type": "execute_result"
    }
   ],
   "source": [
    "from sklearn.decomposition import PCA\n",
    "\n",
    "pca = PCA(.9999)\n",
    "X_pca = pca.fit_transform(X)\n",
    "X_pca.shape"
   ]
  },
  {
   "cell_type": "code",
   "execution_count": 94,
   "id": "01a492fc-9bcd-4d7e-aed8-6e6257f18e44",
   "metadata": {},
   "outputs": [
    {
     "data": {
      "text/plain": [
       "array([9.20218362e-01, 4.91330275e-02, 2.50816697e-02, 5.33062474e-03,\n",
       "       9.53700717e-05, 5.91900010e-05])"
      ]
     },
     "execution_count": 94,
     "metadata": {},
     "output_type": "execute_result"
    }
   ],
   "source": [
    "pca.explained_variance_ratio_"
   ]
  },
  {
   "cell_type": "code",
   "execution_count": 95,
   "id": "3eddc6b8-91ce-4a92-8960-72149f09a45d",
   "metadata": {},
   "outputs": [
    {
     "data": {
      "text/plain": [
       "6"
      ]
     },
     "execution_count": 95,
     "metadata": {},
     "output_type": "execute_result"
    }
   ],
   "source": [
    "pca.n_components_"
   ]
  },
  {
   "cell_type": "code",
   "execution_count": 96,
   "id": "f919ce56-874c-44ca-800f-f4cce4e9bfeb",
   "metadata": {},
   "outputs": [],
   "source": [
    "X_train_pca, X_test_pca, y_train, y_test = train_test_split(X_pca, y, test_size=0.2, random_state=30)"
   ]
  },
  {
   "cell_type": "code",
   "execution_count": 97,
   "id": "3804bde6-73ed-4097-9475-b86e5e6b6dd8",
   "metadata": {},
   "outputs": [
    {
     "data": {
      "text/plain": [
       "0.7880434782608695"
      ]
     },
     "execution_count": 97,
     "metadata": {},
     "output_type": "execute_result"
    }
   ],
   "source": [
    "from sklearn.linear_model import LogisticRegression\n",
    "\n",
    "model = LogisticRegression(max_iter=1000)\n",
    "model.fit(X_train_pca, y_train)\n",
    "model.score(X_test_pca, y_test)"
   ]
  },
  {
   "cell_type": "code",
   "execution_count": null,
   "id": "70c34960-d19e-40c2-a4d3-2356f27515cf",
   "metadata": {},
   "outputs": [],
   "source": []
  }
 ],
 "metadata": {
  "kernelspec": {
   "display_name": "Python 3 (ipykernel)",
   "language": "python",
   "name": "python3"
  },
  "language_info": {
   "codemirror_mode": {
    "name": "ipython",
    "version": 3
   },
   "file_extension": ".py",
   "mimetype": "text/x-python",
   "name": "python",
   "nbconvert_exporter": "python",
   "pygments_lexer": "ipython3",
   "version": "3.8.10"
  }
 },
 "nbformat": 4,
 "nbformat_minor": 5
}
