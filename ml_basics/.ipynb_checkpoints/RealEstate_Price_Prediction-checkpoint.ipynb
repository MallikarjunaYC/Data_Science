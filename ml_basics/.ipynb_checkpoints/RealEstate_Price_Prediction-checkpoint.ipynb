{
 "cells": [
  {
   "cell_type": "markdown",
   "id": "c1d6dcaa-080f-49d2-a48e-7b5afb54f332",
   "metadata": {},
   "source": [
    "this aims to decide on the price of a real estate property in Bangalore\n",
    "first we will import the data and then do data cleaning\n",
    "data cleaning is done as per the business requirement\n",
    "- split the data and retain only the BHK info - for ex from 2 BHK retain only 2\n",
    "- in ;'total_sqft' column there are price range like 2100 - 2850 - insert a mean value here and remove the rest\n",
    "- remove some unwanted columns\n",
    "- remove columns with zero data\n",
    "- remove outliers - if the property price is too high\n",
    "- remove properties with more bathrooms than bHKs\n",
    "- remove locations with less than 10 properties\n",
    "- remove residentail properties which have less than 300 sq ft per bed room\n",
    "- calculate price per sq ft and remove those rows which have extreme values\n",
    "- remove those properties which have prices less for example 3 BHK costing less than 2 BHK - using z score to remove outliers"
   ]
  },
  {
   "cell_type": "code",
   "execution_count": 209,
   "id": "29605b42-173f-424e-902c-22766cc53805",
   "metadata": {},
   "outputs": [],
   "source": [
    "import pandas as pd\n",
    "import numpy as np\n",
    "import matplotlib.pyplot as plt\n"
   ]
  },
  {
   "cell_type": "code",
   "execution_count": 210,
   "id": "a649bdb1-63a0-4e4d-a88a-fb9d11a4ac8e",
   "metadata": {},
   "outputs": [
    {
     "data": {
      "text/html": [
       "<div>\n",
       "<style scoped>\n",
       "    .dataframe tbody tr th:only-of-type {\n",
       "        vertical-align: middle;\n",
       "    }\n",
       "\n",
       "    .dataframe tbody tr th {\n",
       "        vertical-align: top;\n",
       "    }\n",
       "\n",
       "    .dataframe thead th {\n",
       "        text-align: right;\n",
       "    }\n",
       "</style>\n",
       "<table border=\"1\" class=\"dataframe\">\n",
       "  <thead>\n",
       "    <tr style=\"text-align: right;\">\n",
       "      <th></th>\n",
       "      <th>area_type</th>\n",
       "      <th>availability</th>\n",
       "      <th>location</th>\n",
       "      <th>size</th>\n",
       "      <th>society</th>\n",
       "      <th>total_sqft</th>\n",
       "      <th>bath</th>\n",
       "      <th>balcony</th>\n",
       "      <th>price</th>\n",
       "    </tr>\n",
       "  </thead>\n",
       "  <tbody>\n",
       "    <tr>\n",
       "      <th>0</th>\n",
       "      <td>Super built-up  Area</td>\n",
       "      <td>19-Dec</td>\n",
       "      <td>Electronic City Phase II</td>\n",
       "      <td>2 BHK</td>\n",
       "      <td>Coomee</td>\n",
       "      <td>1056</td>\n",
       "      <td>2.0</td>\n",
       "      <td>1.0</td>\n",
       "      <td>39.07</td>\n",
       "    </tr>\n",
       "    <tr>\n",
       "      <th>1</th>\n",
       "      <td>Plot  Area</td>\n",
       "      <td>Ready To Move</td>\n",
       "      <td>Chikka Tirupathi</td>\n",
       "      <td>4 Bedroom</td>\n",
       "      <td>Theanmp</td>\n",
       "      <td>2600</td>\n",
       "      <td>5.0</td>\n",
       "      <td>3.0</td>\n",
       "      <td>120.00</td>\n",
       "    </tr>\n",
       "    <tr>\n",
       "      <th>2</th>\n",
       "      <td>Built-up  Area</td>\n",
       "      <td>Ready To Move</td>\n",
       "      <td>Uttarahalli</td>\n",
       "      <td>3 BHK</td>\n",
       "      <td>NaN</td>\n",
       "      <td>1440</td>\n",
       "      <td>2.0</td>\n",
       "      <td>3.0</td>\n",
       "      <td>62.00</td>\n",
       "    </tr>\n",
       "    <tr>\n",
       "      <th>3</th>\n",
       "      <td>Super built-up  Area</td>\n",
       "      <td>Ready To Move</td>\n",
       "      <td>Lingadheeranahalli</td>\n",
       "      <td>3 BHK</td>\n",
       "      <td>Soiewre</td>\n",
       "      <td>1521</td>\n",
       "      <td>3.0</td>\n",
       "      <td>1.0</td>\n",
       "      <td>95.00</td>\n",
       "    </tr>\n",
       "    <tr>\n",
       "      <th>4</th>\n",
       "      <td>Super built-up  Area</td>\n",
       "      <td>Ready To Move</td>\n",
       "      <td>Kothanur</td>\n",
       "      <td>2 BHK</td>\n",
       "      <td>NaN</td>\n",
       "      <td>1200</td>\n",
       "      <td>2.0</td>\n",
       "      <td>1.0</td>\n",
       "      <td>51.00</td>\n",
       "    </tr>\n",
       "  </tbody>\n",
       "</table>\n",
       "</div>"
      ],
      "text/plain": [
       "              area_type   availability                  location       size   \n",
       "0  Super built-up  Area         19-Dec  Electronic City Phase II      2 BHK  \\\n",
       "1            Plot  Area  Ready To Move          Chikka Tirupathi  4 Bedroom   \n",
       "2        Built-up  Area  Ready To Move               Uttarahalli      3 BHK   \n",
       "3  Super built-up  Area  Ready To Move        Lingadheeranahalli      3 BHK   \n",
       "4  Super built-up  Area  Ready To Move                  Kothanur      2 BHK   \n",
       "\n",
       "   society total_sqft  bath  balcony   price  \n",
       "0  Coomee        1056   2.0      1.0   39.07  \n",
       "1  Theanmp       2600   5.0      3.0  120.00  \n",
       "2      NaN       1440   2.0      3.0   62.00  \n",
       "3  Soiewre       1521   3.0      1.0   95.00  \n",
       "4      NaN       1200   2.0      1.0   51.00  "
      ]
     },
     "execution_count": 210,
     "metadata": {},
     "output_type": "execute_result"
    }
   ],
   "source": [
    "df = pd.read_csv(\"Bengaluru_House_Data.csv\")\n",
    "df.head()"
   ]
  },
  {
   "cell_type": "code",
   "execution_count": 211,
   "id": "7b13c2bb-72a9-471f-89f3-2baf76029e26",
   "metadata": {},
   "outputs": [
    {
     "data": {
      "text/plain": [
       "(13320, 9)"
      ]
     },
     "execution_count": 211,
     "metadata": {},
     "output_type": "execute_result"
    }
   ],
   "source": [
    "df.shape\n"
   ]
  },
  {
   "cell_type": "code",
   "execution_count": 212,
   "id": "1c283dfc-dda5-4fa8-a2b5-4e79c21c1863",
   "metadata": {},
   "outputs": [
    {
     "data": {
      "text/plain": [
       "area_type\n",
       "Built-up  Area          2418\n",
       "Carpet  Area              87\n",
       "Plot  Area              2025\n",
       "Super built-up  Area    8790\n",
       "Name: area_type, dtype: int64"
      ]
     },
     "execution_count": 212,
     "metadata": {},
     "output_type": "execute_result"
    }
   ],
   "source": [
    "df.groupby('area_type')['area_type'].agg('count')"
   ]
  },
  {
   "cell_type": "code",
   "execution_count": 213,
   "id": "43d5fbe5-b724-4658-b0cb-b81197819a48",
   "metadata": {},
   "outputs": [
    {
     "data": {
      "text/html": [
       "<div>\n",
       "<style scoped>\n",
       "    .dataframe tbody tr th:only-of-type {\n",
       "        vertical-align: middle;\n",
       "    }\n",
       "\n",
       "    .dataframe tbody tr th {\n",
       "        vertical-align: top;\n",
       "    }\n",
       "\n",
       "    .dataframe thead th {\n",
       "        text-align: right;\n",
       "    }\n",
       "</style>\n",
       "<table border=\"1\" class=\"dataframe\">\n",
       "  <thead>\n",
       "    <tr style=\"text-align: right;\">\n",
       "      <th></th>\n",
       "      <th>location</th>\n",
       "      <th>size</th>\n",
       "      <th>total_sqft</th>\n",
       "      <th>bath</th>\n",
       "      <th>price</th>\n",
       "    </tr>\n",
       "  </thead>\n",
       "  <tbody>\n",
       "    <tr>\n",
       "      <th>0</th>\n",
       "      <td>Electronic City Phase II</td>\n",
       "      <td>2 BHK</td>\n",
       "      <td>1056</td>\n",
       "      <td>2.0</td>\n",
       "      <td>39.07</td>\n",
       "    </tr>\n",
       "    <tr>\n",
       "      <th>1</th>\n",
       "      <td>Chikka Tirupathi</td>\n",
       "      <td>4 Bedroom</td>\n",
       "      <td>2600</td>\n",
       "      <td>5.0</td>\n",
       "      <td>120.00</td>\n",
       "    </tr>\n",
       "    <tr>\n",
       "      <th>2</th>\n",
       "      <td>Uttarahalli</td>\n",
       "      <td>3 BHK</td>\n",
       "      <td>1440</td>\n",
       "      <td>2.0</td>\n",
       "      <td>62.00</td>\n",
       "    </tr>\n",
       "    <tr>\n",
       "      <th>3</th>\n",
       "      <td>Lingadheeranahalli</td>\n",
       "      <td>3 BHK</td>\n",
       "      <td>1521</td>\n",
       "      <td>3.0</td>\n",
       "      <td>95.00</td>\n",
       "    </tr>\n",
       "    <tr>\n",
       "      <th>4</th>\n",
       "      <td>Kothanur</td>\n",
       "      <td>2 BHK</td>\n",
       "      <td>1200</td>\n",
       "      <td>2.0</td>\n",
       "      <td>51.00</td>\n",
       "    </tr>\n",
       "  </tbody>\n",
       "</table>\n",
       "</div>"
      ],
      "text/plain": [
       "                   location       size total_sqft  bath   price\n",
       "0  Electronic City Phase II      2 BHK       1056   2.0   39.07\n",
       "1          Chikka Tirupathi  4 Bedroom       2600   5.0  120.00\n",
       "2               Uttarahalli      3 BHK       1440   2.0   62.00\n",
       "3        Lingadheeranahalli      3 BHK       1521   3.0   95.00\n",
       "4                  Kothanur      2 BHK       1200   2.0   51.00"
      ]
     },
     "execution_count": 213,
     "metadata": {},
     "output_type": "execute_result"
    }
   ],
   "source": [
    "df2 = df.drop(['area_type','society','balcony','availability'],axis='columns')\n",
    "df2.head()"
   ]
  },
  {
   "cell_type": "code",
   "execution_count": 214,
   "id": "fd025b19-6a4b-405a-9d79-a8ced6685bc7",
   "metadata": {},
   "outputs": [
    {
     "data": {
      "text/plain": [
       "location       1\n",
       "size          16\n",
       "total_sqft     0\n",
       "bath          73\n",
       "price          0\n",
       "dtype: int64"
      ]
     },
     "execution_count": 214,
     "metadata": {},
     "output_type": "execute_result"
    }
   ],
   "source": [
    "df2.isnull().sum()"
   ]
  },
  {
   "cell_type": "code",
   "execution_count": 215,
   "id": "5555be94-0c93-442d-88db-7f994e2df663",
   "metadata": {},
   "outputs": [
    {
     "data": {
      "text/plain": [
       "location      0\n",
       "size          0\n",
       "total_sqft    0\n",
       "bath          0\n",
       "price         0\n",
       "dtype: int64"
      ]
     },
     "execution_count": 215,
     "metadata": {},
     "output_type": "execute_result"
    }
   ],
   "source": [
    "df3 = df2.dropna()\n",
    "df3.isnull().sum()"
   ]
  },
  {
   "cell_type": "code",
   "execution_count": 216,
   "id": "24164f51-07b8-4d6b-9ec4-77a91b8b519e",
   "metadata": {},
   "outputs": [
    {
     "data": {
      "text/plain": [
       "0            2 BHK\n",
       "1        4 Bedroom\n",
       "2            3 BHK\n",
       "3            3 BHK\n",
       "4            2 BHK\n",
       "           ...    \n",
       "13315    5 Bedroom\n",
       "13316        4 BHK\n",
       "13317        2 BHK\n",
       "13318        4 BHK\n",
       "13319        1 BHK\n",
       "Name: size, Length: 13246, dtype: object"
      ]
     },
     "execution_count": 216,
     "metadata": {},
     "output_type": "execute_result"
    }
   ],
   "source": [
    "df3['size']\n"
   ]
  },
  {
   "cell_type": "code",
   "execution_count": 217,
   "id": "3bb0daf1-3cc9-42c1-bf53-228c47f35979",
   "metadata": {},
   "outputs": [
    {
     "name": "stderr",
     "output_type": "stream",
     "text": [
      "/tmp/ipykernel_12331/3303903377.py:1: SettingWithCopyWarning: \n",
      "A value is trying to be set on a copy of a slice from a DataFrame.\n",
      "Try using .loc[row_indexer,col_indexer] = value instead\n",
      "\n",
      "See the caveats in the documentation: https://pandas.pydata.org/pandas-docs/stable/user_guide/indexing.html#returning-a-view-versus-a-copy\n",
      "  df3['BHK'] = df3['size'].apply(lambda x: int(x.split(' ')[0]))\n"
     ]
    }
   ],
   "source": [
    "df3['BHK'] = df3['size'].apply(lambda x: int(x.split(' ')[0]))"
   ]
  },
  {
   "cell_type": "code",
   "execution_count": 218,
   "id": "e298b6d7-f4b1-4b83-b177-fae55a7492d8",
   "metadata": {},
   "outputs": [
    {
     "data": {
      "text/html": [
       "<div>\n",
       "<style scoped>\n",
       "    .dataframe tbody tr th:only-of-type {\n",
       "        vertical-align: middle;\n",
       "    }\n",
       "\n",
       "    .dataframe tbody tr th {\n",
       "        vertical-align: top;\n",
       "    }\n",
       "\n",
       "    .dataframe thead th {\n",
       "        text-align: right;\n",
       "    }\n",
       "</style>\n",
       "<table border=\"1\" class=\"dataframe\">\n",
       "  <thead>\n",
       "    <tr style=\"text-align: right;\">\n",
       "      <th></th>\n",
       "      <th>location</th>\n",
       "      <th>size</th>\n",
       "      <th>total_sqft</th>\n",
       "      <th>bath</th>\n",
       "      <th>price</th>\n",
       "      <th>BHK</th>\n",
       "    </tr>\n",
       "  </thead>\n",
       "  <tbody>\n",
       "    <tr>\n",
       "      <th>0</th>\n",
       "      <td>Electronic City Phase II</td>\n",
       "      <td>2 BHK</td>\n",
       "      <td>1056</td>\n",
       "      <td>2.0</td>\n",
       "      <td>39.07</td>\n",
       "      <td>2</td>\n",
       "    </tr>\n",
       "    <tr>\n",
       "      <th>1</th>\n",
       "      <td>Chikka Tirupathi</td>\n",
       "      <td>4 Bedroom</td>\n",
       "      <td>2600</td>\n",
       "      <td>5.0</td>\n",
       "      <td>120.00</td>\n",
       "      <td>4</td>\n",
       "    </tr>\n",
       "    <tr>\n",
       "      <th>2</th>\n",
       "      <td>Uttarahalli</td>\n",
       "      <td>3 BHK</td>\n",
       "      <td>1440</td>\n",
       "      <td>2.0</td>\n",
       "      <td>62.00</td>\n",
       "      <td>3</td>\n",
       "    </tr>\n",
       "    <tr>\n",
       "      <th>3</th>\n",
       "      <td>Lingadheeranahalli</td>\n",
       "      <td>3 BHK</td>\n",
       "      <td>1521</td>\n",
       "      <td>3.0</td>\n",
       "      <td>95.00</td>\n",
       "      <td>3</td>\n",
       "    </tr>\n",
       "    <tr>\n",
       "      <th>4</th>\n",
       "      <td>Kothanur</td>\n",
       "      <td>2 BHK</td>\n",
       "      <td>1200</td>\n",
       "      <td>2.0</td>\n",
       "      <td>51.00</td>\n",
       "      <td>2</td>\n",
       "    </tr>\n",
       "  </tbody>\n",
       "</table>\n",
       "</div>"
      ],
      "text/plain": [
       "                   location       size total_sqft  bath   price  BHK\n",
       "0  Electronic City Phase II      2 BHK       1056   2.0   39.07    2\n",
       "1          Chikka Tirupathi  4 Bedroom       2600   5.0  120.00    4\n",
       "2               Uttarahalli      3 BHK       1440   2.0   62.00    3\n",
       "3        Lingadheeranahalli      3 BHK       1521   3.0   95.00    3\n",
       "4                  Kothanur      2 BHK       1200   2.0   51.00    2"
      ]
     },
     "execution_count": 218,
     "metadata": {},
     "output_type": "execute_result"
    }
   ],
   "source": [
    "df3.head()"
   ]
  },
  {
   "cell_type": "code",
   "execution_count": 219,
   "id": "8010a801-cb2e-40c6-bc25-6b3c7760afe9",
   "metadata": {},
   "outputs": [
    {
     "data": {
      "text/plain": [
       "array(['1056', '2600', '1440', ..., '1133 - 1384', '774', '4689'],\n",
       "      dtype=object)"
      ]
     },
     "execution_count": 219,
     "metadata": {},
     "output_type": "execute_result"
    }
   ],
   "source": [
    "df3['total_sqft'].unique()"
   ]
  },
  {
   "cell_type": "code",
   "execution_count": 220,
   "id": "d7aff055-399a-4744-9632-cdb6e9731524",
   "metadata": {},
   "outputs": [
    {
     "name": "stdout",
     "output_type": "stream",
     "text": [
      "                  area_type   availability            location       size   \n",
      "30     Super built-up  Area         19-Dec           Yelahanka      4 BHK  \\\n",
      "56           Built-up  Area         20-Feb         Devanahalli  4 Bedroom   \n",
      "81           Built-up  Area         18-Oct         Hennur Road  4 Bedroom   \n",
      "122    Super built-up  Area         18-Mar              Hebbal      4 BHK   \n",
      "137    Super built-up  Area         19-Mar  8th Phase JP Nagar      2 BHK   \n",
      "...                     ...            ...                 ...        ...   \n",
      "12990  Super built-up  Area         18-May      Talaghattapura      3 BHK   \n",
      "13059  Super built-up  Area  Ready To Move              Harlur      2 BHK   \n",
      "13240  Super built-up  Area  Ready To Move         Devanahalli      1 BHK   \n",
      "13265  Super built-up  Area         20-Sep               Hoodi      2 BHK   \n",
      "13299  Super built-up  Area         18-Dec          Whitefield      4 BHK   \n",
      "\n",
      "       society   total_sqft  bath  balcony    price  \n",
      "30     LedorSa  2100 - 2850   4.0      0.0  186.000  \n",
      "56     BrereAt  3010 - 3410   NaN      NaN  192.000  \n",
      "81     Gollela  2957 - 3450   NaN      NaN  224.500  \n",
      "122    SNontle  3067 - 8156   4.0      0.0  477.000  \n",
      "137    Vaarech  1042 - 1105   2.0      0.0   54.005  \n",
      "...        ...          ...   ...      ...      ...  \n",
      "12990  Sodgere  1804 - 2273   3.0      0.0  122.000  \n",
      "13059  Shodsir  1200 - 1470   2.0      0.0   72.760  \n",
      "13240  Pardsri  1020 - 1130   NaN      NaN   52.570  \n",
      "13265  Ranuetz  1133 - 1384   2.0      0.0   59.135  \n",
      "13299  Prtates  2830 - 2882   5.0      0.0  154.500  \n",
      "\n",
      "[196 rows x 9 columns]\n"
     ]
    }
   ],
   "source": [
    "# Define the regex pattern to match \"number - number\" format\n",
    "range_pattern = r'^\\d+\\s*-\\s*\\d+$'\n",
    "\n",
    "# Filter the DataFrame to include only rows with values matching the pattern\n",
    "filtered_df = df[df['total_sqft'].str.contains(range_pattern)]\n",
    "\n",
    "# Display the filtered DataFrame\n",
    "print(filtered_df)"
   ]
  },
  {
   "cell_type": "code",
   "execution_count": 221,
   "id": "df0ef40b-3c4a-4221-99f8-f096dbac0bed",
   "metadata": {},
   "outputs": [],
   "source": [
    "filtered_df = filtered_df.reindex()"
   ]
  },
  {
   "cell_type": "code",
   "execution_count": 222,
   "id": "ef6b2ac0-9b96-4c9f-befa-e18641ef4ba4",
   "metadata": {},
   "outputs": [
    {
     "name": "stdout",
     "output_type": "stream",
     "text": [
      "area_type       Built-up  Area\n",
      "availability            18-Oct\n",
      "location           Hennur Road\n",
      "size                 4 Bedroom\n",
      "society                Gollela\n",
      "total_sqft         2957 - 3450\n",
      "bath                       NaN\n",
      "balcony                    NaN\n",
      "price                    224.5\n",
      "Name: 81, dtype: object\n"
     ]
    }
   ],
   "source": [
    "print(filtered_df.loc[81])"
   ]
  },
  {
   "cell_type": "code",
   "execution_count": 223,
   "id": "888a139f-76f8-4610-a9f7-a0837dfd37aa",
   "metadata": {},
   "outputs": [],
   "source": [
    "def return_average(x):\n",
    "    tokens = x.split('_')\n",
    "    if len(tokens) == 2:\n",
    "        return float(tokens[0]+float(tokens[1]))/2\n",
    "    try:\n",
    "        return float(x)\n",
    "    except:\n",
    "        return None"
   ]
  },
  {
   "cell_type": "code",
   "execution_count": 224,
   "id": "bcd3de90-5b0a-4976-9af6-2a11f56afd43",
   "metadata": {},
   "outputs": [],
   "source": [
    "df4 = df3.copy()\n",
    "df4['total_sqft'] = df4['total_sqft'].apply(return_average)"
   ]
  },
  {
   "cell_type": "code",
   "execution_count": 225,
   "id": "69fd42fd-900b-457e-a594-d9a4512576e1",
   "metadata": {},
   "outputs": [
    {
     "data": {
      "text/html": [
       "<div>\n",
       "<style scoped>\n",
       "    .dataframe tbody tr th:only-of-type {\n",
       "        vertical-align: middle;\n",
       "    }\n",
       "\n",
       "    .dataframe tbody tr th {\n",
       "        vertical-align: top;\n",
       "    }\n",
       "\n",
       "    .dataframe thead th {\n",
       "        text-align: right;\n",
       "    }\n",
       "</style>\n",
       "<table border=\"1\" class=\"dataframe\">\n",
       "  <thead>\n",
       "    <tr style=\"text-align: right;\">\n",
       "      <th></th>\n",
       "      <th>location</th>\n",
       "      <th>size</th>\n",
       "      <th>total_sqft</th>\n",
       "      <th>bath</th>\n",
       "      <th>price</th>\n",
       "      <th>BHK</th>\n",
       "    </tr>\n",
       "  </thead>\n",
       "  <tbody>\n",
       "    <tr>\n",
       "      <th>0</th>\n",
       "      <td>Electronic City Phase II</td>\n",
       "      <td>2 BHK</td>\n",
       "      <td>1056.0</td>\n",
       "      <td>2.0</td>\n",
       "      <td>39.07</td>\n",
       "      <td>2</td>\n",
       "    </tr>\n",
       "    <tr>\n",
       "      <th>1</th>\n",
       "      <td>Chikka Tirupathi</td>\n",
       "      <td>4 Bedroom</td>\n",
       "      <td>2600.0</td>\n",
       "      <td>5.0</td>\n",
       "      <td>120.00</td>\n",
       "      <td>4</td>\n",
       "    </tr>\n",
       "    <tr>\n",
       "      <th>2</th>\n",
       "      <td>Uttarahalli</td>\n",
       "      <td>3 BHK</td>\n",
       "      <td>1440.0</td>\n",
       "      <td>2.0</td>\n",
       "      <td>62.00</td>\n",
       "      <td>3</td>\n",
       "    </tr>\n",
       "    <tr>\n",
       "      <th>3</th>\n",
       "      <td>Lingadheeranahalli</td>\n",
       "      <td>3 BHK</td>\n",
       "      <td>1521.0</td>\n",
       "      <td>3.0</td>\n",
       "      <td>95.00</td>\n",
       "      <td>3</td>\n",
       "    </tr>\n",
       "    <tr>\n",
       "      <th>4</th>\n",
       "      <td>Kothanur</td>\n",
       "      <td>2 BHK</td>\n",
       "      <td>1200.0</td>\n",
       "      <td>2.0</td>\n",
       "      <td>51.00</td>\n",
       "      <td>2</td>\n",
       "    </tr>\n",
       "    <tr>\n",
       "      <th>...</th>\n",
       "      <td>...</td>\n",
       "      <td>...</td>\n",
       "      <td>...</td>\n",
       "      <td>...</td>\n",
       "      <td>...</td>\n",
       "      <td>...</td>\n",
       "    </tr>\n",
       "    <tr>\n",
       "      <th>97</th>\n",
       "      <td>Sarjapura - Attibele Road</td>\n",
       "      <td>3 BHK</td>\n",
       "      <td>1330.0</td>\n",
       "      <td>2.0</td>\n",
       "      <td>48.00</td>\n",
       "      <td>3</td>\n",
       "    </tr>\n",
       "    <tr>\n",
       "      <th>98</th>\n",
       "      <td>Devasthanagalu</td>\n",
       "      <td>2 BHK</td>\n",
       "      <td>1200.0</td>\n",
       "      <td>2.0</td>\n",
       "      <td>65.00</td>\n",
       "      <td>2</td>\n",
       "    </tr>\n",
       "    <tr>\n",
       "      <th>99</th>\n",
       "      <td>T Dasarahalli</td>\n",
       "      <td>3 Bedroom</td>\n",
       "      <td>1200.0</td>\n",
       "      <td>3.0</td>\n",
       "      <td>90.00</td>\n",
       "      <td>3</td>\n",
       "    </tr>\n",
       "    <tr>\n",
       "      <th>100</th>\n",
       "      <td>Yeshwanthpur</td>\n",
       "      <td>3 BHK</td>\n",
       "      <td>2502.0</td>\n",
       "      <td>3.0</td>\n",
       "      <td>138.00</td>\n",
       "      <td>3</td>\n",
       "    </tr>\n",
       "    <tr>\n",
       "      <th>101</th>\n",
       "      <td>Chandapura</td>\n",
       "      <td>2 BHK</td>\n",
       "      <td>650.0</td>\n",
       "      <td>1.0</td>\n",
       "      <td>17.00</td>\n",
       "      <td>2</td>\n",
       "    </tr>\n",
       "  </tbody>\n",
       "</table>\n",
       "<p>100 rows × 6 columns</p>\n",
       "</div>"
      ],
      "text/plain": [
       "                      location       size  total_sqft  bath   price  BHK\n",
       "0     Electronic City Phase II      2 BHK      1056.0   2.0   39.07    2\n",
       "1             Chikka Tirupathi  4 Bedroom      2600.0   5.0  120.00    4\n",
       "2                  Uttarahalli      3 BHK      1440.0   2.0   62.00    3\n",
       "3           Lingadheeranahalli      3 BHK      1521.0   3.0   95.00    3\n",
       "4                     Kothanur      2 BHK      1200.0   2.0   51.00    2\n",
       "..                         ...        ...         ...   ...     ...  ...\n",
       "97   Sarjapura - Attibele Road      3 BHK      1330.0   2.0   48.00    3\n",
       "98              Devasthanagalu      2 BHK      1200.0   2.0   65.00    2\n",
       "99               T Dasarahalli  3 Bedroom      1200.0   3.0   90.00    3\n",
       "100               Yeshwanthpur      3 BHK      2502.0   3.0  138.00    3\n",
       "101                 Chandapura      2 BHK       650.0   1.0   17.00    2\n",
       "\n",
       "[100 rows x 6 columns]"
      ]
     },
     "execution_count": 225,
     "metadata": {},
     "output_type": "execute_result"
    }
   ],
   "source": [
    "df4.head(100)"
   ]
  },
  {
   "cell_type": "code",
   "execution_count": 226,
   "id": "ae0f1a88-51a7-4435-bb5f-14886b193c63",
   "metadata": {},
   "outputs": [
    {
     "data": {
      "text/plain": [
       "(13246, 6)"
      ]
     },
     "execution_count": 226,
     "metadata": {},
     "output_type": "execute_result"
    }
   ],
   "source": [
    "df4.shape"
   ]
  },
  {
   "cell_type": "code",
   "execution_count": 227,
   "id": "faa9a173-6aaf-4fb9-8149-5f0a7e3a1488",
   "metadata": {},
   "outputs": [
    {
     "data": {
      "text/plain": [
       "location        0\n",
       "size            0\n",
       "total_sqft    190\n",
       "bath            0\n",
       "price           0\n",
       "BHK             0\n",
       "dtype: int64"
      ]
     },
     "execution_count": 227,
     "metadata": {},
     "output_type": "execute_result"
    }
   ],
   "source": [
    "df4.isnull().sum()"
   ]
  },
  {
   "cell_type": "code",
   "execution_count": 228,
   "id": "56500ac2-d526-4699-a7db-ab83468523c6",
   "metadata": {},
   "outputs": [
    {
     "data": {
      "text/plain": [
       "location      0\n",
       "size          0\n",
       "total_sqft    0\n",
       "bath          0\n",
       "price         0\n",
       "BHK           0\n",
       "dtype: int64"
      ]
     },
     "execution_count": 228,
     "metadata": {},
     "output_type": "execute_result"
    }
   ],
   "source": [
    "df4 = df4.dropna()\n",
    "df4.isnull().sum()"
   ]
  },
  {
   "cell_type": "code",
   "execution_count": 229,
   "id": "bf5065b2-3e13-417e-aabe-bf9c1559d6c5",
   "metadata": {},
   "outputs": [
    {
     "data": {
      "text/plain": [
       "(13056, 6)"
      ]
     },
     "execution_count": 229,
     "metadata": {},
     "output_type": "execute_result"
    }
   ],
   "source": [
    "df4.shape"
   ]
  },
  {
   "cell_type": "code",
   "execution_count": 230,
   "id": "b1b2b17b-c2da-4c82-8c68-f789a17e6d6b",
   "metadata": {},
   "outputs": [],
   "source": [
    "df5 = df4.copy()"
   ]
  },
  {
   "cell_type": "code",
   "execution_count": 231,
   "id": "83a1abec-55b7-4cd8-88b4-f2a807785556",
   "metadata": {},
   "outputs": [
    {
     "data": {
      "text/html": [
       "<div>\n",
       "<style scoped>\n",
       "    .dataframe tbody tr th:only-of-type {\n",
       "        vertical-align: middle;\n",
       "    }\n",
       "\n",
       "    .dataframe tbody tr th {\n",
       "        vertical-align: top;\n",
       "    }\n",
       "\n",
       "    .dataframe thead th {\n",
       "        text-align: right;\n",
       "    }\n",
       "</style>\n",
       "<table border=\"1\" class=\"dataframe\">\n",
       "  <thead>\n",
       "    <tr style=\"text-align: right;\">\n",
       "      <th></th>\n",
       "      <th>location</th>\n",
       "      <th>size</th>\n",
       "      <th>total_sqft</th>\n",
       "      <th>bath</th>\n",
       "      <th>price</th>\n",
       "      <th>BHK</th>\n",
       "      <th>price_per_sq.feet</th>\n",
       "    </tr>\n",
       "  </thead>\n",
       "  <tbody>\n",
       "    <tr>\n",
       "      <th>0</th>\n",
       "      <td>Electronic City Phase II</td>\n",
       "      <td>2 BHK</td>\n",
       "      <td>1056.0</td>\n",
       "      <td>2.0</td>\n",
       "      <td>39.07</td>\n",
       "      <td>2</td>\n",
       "      <td>3699.810606</td>\n",
       "    </tr>\n",
       "    <tr>\n",
       "      <th>1</th>\n",
       "      <td>Chikka Tirupathi</td>\n",
       "      <td>4 Bedroom</td>\n",
       "      <td>2600.0</td>\n",
       "      <td>5.0</td>\n",
       "      <td>120.00</td>\n",
       "      <td>4</td>\n",
       "      <td>4615.384615</td>\n",
       "    </tr>\n",
       "    <tr>\n",
       "      <th>2</th>\n",
       "      <td>Uttarahalli</td>\n",
       "      <td>3 BHK</td>\n",
       "      <td>1440.0</td>\n",
       "      <td>2.0</td>\n",
       "      <td>62.00</td>\n",
       "      <td>3</td>\n",
       "      <td>4305.555556</td>\n",
       "    </tr>\n",
       "    <tr>\n",
       "      <th>3</th>\n",
       "      <td>Lingadheeranahalli</td>\n",
       "      <td>3 BHK</td>\n",
       "      <td>1521.0</td>\n",
       "      <td>3.0</td>\n",
       "      <td>95.00</td>\n",
       "      <td>3</td>\n",
       "      <td>6245.890861</td>\n",
       "    </tr>\n",
       "    <tr>\n",
       "      <th>4</th>\n",
       "      <td>Kothanur</td>\n",
       "      <td>2 BHK</td>\n",
       "      <td>1200.0</td>\n",
       "      <td>2.0</td>\n",
       "      <td>51.00</td>\n",
       "      <td>2</td>\n",
       "      <td>4250.000000</td>\n",
       "    </tr>\n",
       "  </tbody>\n",
       "</table>\n",
       "</div>"
      ],
      "text/plain": [
       "                   location       size  total_sqft  bath   price  BHK   \n",
       "0  Electronic City Phase II      2 BHK      1056.0   2.0   39.07    2  \\\n",
       "1          Chikka Tirupathi  4 Bedroom      2600.0   5.0  120.00    4   \n",
       "2               Uttarahalli      3 BHK      1440.0   2.0   62.00    3   \n",
       "3        Lingadheeranahalli      3 BHK      1521.0   3.0   95.00    3   \n",
       "4                  Kothanur      2 BHK      1200.0   2.0   51.00    2   \n",
       "\n",
       "   price_per_sq.feet  \n",
       "0        3699.810606  \n",
       "1        4615.384615  \n",
       "2        4305.555556  \n",
       "3        6245.890861  \n",
       "4        4250.000000  "
      ]
     },
     "execution_count": 231,
     "metadata": {},
     "output_type": "execute_result"
    }
   ],
   "source": [
    "df5['price_per_sq.feet'] = df5['price']*100000/df5['total_sqft']\n",
    "df5.head()"
   ]
  },
  {
   "cell_type": "code",
   "execution_count": 232,
   "id": "06fb1154-8639-4042-8796-22b1828ffcf9",
   "metadata": {},
   "outputs": [],
   "source": [
    "# strips the 'location' column values of any space at the beginning or end\n",
    "df5.location = df5.location.apply(lambda x: x.strip())"
   ]
  },
  {
   "cell_type": "code",
   "execution_count": 233,
   "id": "72cdb3c9-4a35-441e-8499-5f9dbd862aa8",
   "metadata": {},
   "outputs": [],
   "source": [
    "# group by location and count the properties in each location\n",
    "# sort the values in each location\n",
    "location_stats = df5.groupby('location').size().sort_values(ascending=False)"
   ]
  },
  {
   "cell_type": "code",
   "execution_count": 234,
   "id": "00abd9a4-c65c-46f9-af1b-cc7e270c26b8",
   "metadata": {},
   "outputs": [
    {
     "name": "stdout",
     "output_type": "stream",
     "text": [
      "location\n",
      "Whitefield               518\n",
      "Sarjapur  Road           386\n",
      "Electronic City          304\n",
      "Kanakpura Road           260\n",
      "Thanisandra              225\n",
      "                        ... \n",
      "Kanakapura Main Road       1\n",
      "1 Giri Nagar               1\n",
      "Kanakapura Road,           1\n",
      "Kanakapura main  Road      1\n",
      "whitefiled                 1\n",
      "Length: 1287, dtype: int64\n"
     ]
    }
   ],
   "source": [
    "print(location_stats)"
   ]
  },
  {
   "cell_type": "code",
   "execution_count": 235,
   "id": "980d427b-899e-4d38-9cb3-d27d09c86f3d",
   "metadata": {},
   "outputs": [
    {
     "data": {
      "text/plain": [
       "1048"
      ]
     },
     "execution_count": 235,
     "metadata": {},
     "output_type": "execute_result"
    }
   ],
   "source": [
    "len(location_stats[location_stats<=10])"
   ]
  },
  {
   "cell_type": "code",
   "execution_count": 236,
   "id": "c8f5f688-5bd2-4905-ad1c-98d7e4f4d116",
   "metadata": {},
   "outputs": [
    {
     "data": {
      "text/plain": [
       "location\n",
       "Thyagaraja Nagar         10\n",
       "Dodsworth Layout         10\n",
       "Ganga Nagar              10\n",
       "ITPL                     10\n",
       "Sector 1 HSR Layout      10\n",
       "                         ..\n",
       "Kanakapura Main Road      1\n",
       "1 Giri Nagar              1\n",
       "Kanakapura Road,          1\n",
       "Kanakapura main  Road     1\n",
       "whitefiled                1\n",
       "Length: 1048, dtype: int64"
      ]
     },
     "execution_count": 236,
     "metadata": {},
     "output_type": "execute_result"
    }
   ],
   "source": [
    "location_stats_less_then_10 = location_stats[location_stats<=10]\n",
    "location_stats_less_then_10"
   ]
  },
  {
   "cell_type": "code",
   "execution_count": 237,
   "id": "30d5cd1e-a774-4502-a553-6a69e32ce423",
   "metadata": {},
   "outputs": [
    {
     "data": {
      "text/plain": [
       "1287"
      ]
     },
     "execution_count": 237,
     "metadata": {},
     "output_type": "execute_result"
    }
   ],
   "source": [
    "len(df5.location.unique())"
   ]
  },
  {
   "cell_type": "code",
   "execution_count": 238,
   "id": "16914dd3-7638-40b9-912e-19a67cdd8580",
   "metadata": {},
   "outputs": [
    {
     "data": {
      "text/plain": [
       "240"
      ]
     },
     "execution_count": 238,
     "metadata": {},
     "output_type": "execute_result"
    }
   ],
   "source": [
    "# convert the locations with less than 10 properties into other\n",
    "df5.location = df5.location.apply(lambda x: 'other' if x in location_stats_less_then_10 else x)\n",
    "len(df5.location.unique())"
   ]
  },
  {
   "cell_type": "code",
   "execution_count": 239,
   "id": "06ae689c-8700-4e3e-969a-ccbe46e260f1",
   "metadata": {},
   "outputs": [],
   "source": [
    "# create a new df - remove residentail properties which have less than 300 sq ft per bed room\n",
    "df6 = df5[~(df5['total_sqft']/df5['BHK']<300)]"
   ]
  },
  {
   "cell_type": "code",
   "execution_count": 240,
   "id": "99e5edcf-e407-4c0b-a0de-4729dec203b6",
   "metadata": {},
   "outputs": [
    {
     "data": {
      "text/html": [
       "<div>\n",
       "<style scoped>\n",
       "    .dataframe tbody tr th:only-of-type {\n",
       "        vertical-align: middle;\n",
       "    }\n",
       "\n",
       "    .dataframe tbody tr th {\n",
       "        vertical-align: top;\n",
       "    }\n",
       "\n",
       "    .dataframe thead th {\n",
       "        text-align: right;\n",
       "    }\n",
       "</style>\n",
       "<table border=\"1\" class=\"dataframe\">\n",
       "  <thead>\n",
       "    <tr style=\"text-align: right;\">\n",
       "      <th></th>\n",
       "      <th>location</th>\n",
       "      <th>size</th>\n",
       "      <th>total_sqft</th>\n",
       "      <th>bath</th>\n",
       "      <th>price</th>\n",
       "      <th>BHK</th>\n",
       "      <th>price_per_sq.feet</th>\n",
       "    </tr>\n",
       "  </thead>\n",
       "  <tbody>\n",
       "    <tr>\n",
       "      <th>0</th>\n",
       "      <td>Electronic City Phase II</td>\n",
       "      <td>2 BHK</td>\n",
       "      <td>1056.0</td>\n",
       "      <td>2.0</td>\n",
       "      <td>39.07</td>\n",
       "      <td>2</td>\n",
       "      <td>3699.810606</td>\n",
       "    </tr>\n",
       "    <tr>\n",
       "      <th>1</th>\n",
       "      <td>Chikka Tirupathi</td>\n",
       "      <td>4 Bedroom</td>\n",
       "      <td>2600.0</td>\n",
       "      <td>5.0</td>\n",
       "      <td>120.00</td>\n",
       "      <td>4</td>\n",
       "      <td>4615.384615</td>\n",
       "    </tr>\n",
       "    <tr>\n",
       "      <th>2</th>\n",
       "      <td>Uttarahalli</td>\n",
       "      <td>3 BHK</td>\n",
       "      <td>1440.0</td>\n",
       "      <td>2.0</td>\n",
       "      <td>62.00</td>\n",
       "      <td>3</td>\n",
       "      <td>4305.555556</td>\n",
       "    </tr>\n",
       "    <tr>\n",
       "      <th>3</th>\n",
       "      <td>Lingadheeranahalli</td>\n",
       "      <td>3 BHK</td>\n",
       "      <td>1521.0</td>\n",
       "      <td>3.0</td>\n",
       "      <td>95.00</td>\n",
       "      <td>3</td>\n",
       "      <td>6245.890861</td>\n",
       "    </tr>\n",
       "    <tr>\n",
       "      <th>4</th>\n",
       "      <td>Kothanur</td>\n",
       "      <td>2 BHK</td>\n",
       "      <td>1200.0</td>\n",
       "      <td>2.0</td>\n",
       "      <td>51.00</td>\n",
       "      <td>2</td>\n",
       "      <td>4250.000000</td>\n",
       "    </tr>\n",
       "  </tbody>\n",
       "</table>\n",
       "</div>"
      ],
      "text/plain": [
       "                   location       size  total_sqft  bath   price  BHK   \n",
       "0  Electronic City Phase II      2 BHK      1056.0   2.0   39.07    2  \\\n",
       "1          Chikka Tirupathi  4 Bedroom      2600.0   5.0  120.00    4   \n",
       "2               Uttarahalli      3 BHK      1440.0   2.0   62.00    3   \n",
       "3        Lingadheeranahalli      3 BHK      1521.0   3.0   95.00    3   \n",
       "4                  Kothanur      2 BHK      1200.0   2.0   51.00    2   \n",
       "\n",
       "   price_per_sq.feet  \n",
       "0        3699.810606  \n",
       "1        4615.384615  \n",
       "2        4305.555556  \n",
       "3        6245.890861  \n",
       "4        4250.000000  "
      ]
     },
     "execution_count": 240,
     "metadata": {},
     "output_type": "execute_result"
    }
   ],
   "source": [
    "df6.head()"
   ]
  },
  {
   "cell_type": "code",
   "execution_count": 241,
   "id": "9ef00df1-696a-4989-884d-ef83e86a1bc1",
   "metadata": {},
   "outputs": [],
   "source": [
    "# remove the extreme values"
   ]
  },
  {
   "cell_type": "code",
   "execution_count": 242,
   "id": "a91bfa52-4986-4ae2-b7db-8a955a609cec",
   "metadata": {},
   "outputs": [
    {
     "data": {
      "text/plain": [
       "count     12312.000000\n",
       "mean       6323.403514\n",
       "std        4187.211055\n",
       "min         267.829813\n",
       "25%        4208.545855\n",
       "50%        5300.000000\n",
       "75%        6938.987948\n",
       "max      176470.588235\n",
       "Name: price_per_sq.feet, dtype: float64"
      ]
     },
     "execution_count": 242,
     "metadata": {},
     "output_type": "execute_result"
    }
   ],
   "source": [
    "df6['price_per_sq.feet'].describe()"
   ]
  },
  {
   "cell_type": "code",
   "execution_count": 243,
   "id": "1f4980b0-b5cd-411a-9403-9160ed03954a",
   "metadata": {},
   "outputs": [
    {
     "name": "stdout",
     "output_type": "stream",
     "text": [
      "Number of items with value '3699.810606' in the column: 0\n"
     ]
    }
   ],
   "source": [
    "# Specify the value you want to count\n",
    "specific_value = 3699.810606\n",
    "\n",
    "# Calculate the number of items with the specific value in the column\n",
    "count_specific_value = (df6['price_per_sq.feet'] == specific_value).sum()\n",
    "\n",
    "# Display the count\n",
    "print(\"Number of items with value '{}' in the column: {}\".format(specific_value, count_specific_value))"
   ]
  },
  {
   "cell_type": "code",
   "execution_count": 244,
   "id": "b171dee0-fbbc-40da-956b-3f4eb809b41e",
   "metadata": {},
   "outputs": [
    {
     "data": {
      "text/plain": [
       "(11794, 7)"
      ]
     },
     "execution_count": 244,
     "metadata": {},
     "output_type": "execute_result"
    }
   ],
   "source": [
    "# outlier removal with mean and 2 std deviation\n",
    "def remove_pps_outliers(df):\n",
    "    df_out = pd.DataFrame()\n",
    "    for key, subdf in df.groupby('location'):\n",
    "        m = np.mean(subdf['price_per_sq.feet'])\n",
    "        st = np.std(subdf['price_per_sq.feet'])\n",
    "        reduced_df = subdf[(subdf['price_per_sq.feet']>(m-2*st)) & (subdf['price_per_sq.feet']<=(m+2*st))]\n",
    "        df_out = pd.concat([df_out,reduced_df],ignore_index=True)\n",
    "    return df_out\n",
    "df7 = remove_pps_outliers(df6)\n",
    "df7.shape"
   ]
  },
  {
   "cell_type": "code",
   "execution_count": 245,
   "id": "56724115-85f8-4ab6-892f-2cd1f1494df3",
   "metadata": {},
   "outputs": [
    {
     "data": {
      "image/png": "[encoded data removed]",
      "text/plain": [
       "<Figure size 1500x1000 with 1 Axes>"
      ]
     },
     "metadata": {},
     "output_type": "display_data"
    }
   ],
   "source": [
    "# for a given location how does the 2 BHK and 3 BHK property prices look like - will be used to remove outliers\n",
    "from matplotlib import pyplot as plt\n",
    "def plot_scatter_chart(df,location):\n",
    "    bhk2 = df[(df.location==location) & (df.BHK==2)]\n",
    "    bhk3 = df[(df.location==location) & (df.BHK==3)]\n",
    "    plt.rcParams['figure.figsize'] = (15,10)\n",
    "    plt.scatter(bhk2.total_sqft,bhk2.price,color='blue',label='2 BHK', s=50)\n",
    "    plt.scatter(bhk3.total_sqft,bhk3.price,marker='+', color='green',label='3 BHK', s=50)\n",
    "    plt.xlabel(\"Total Square Feet Area\")\n",
    "    plt.ylabel(\"Price (Lakh Indian Rupees)\")\n",
    "    plt.title(location)\n",
    "    plt.legend()\n",
    "    \n",
    "plot_scatter_chart(df7,\"Hebbal\")\n"
   ]
  },
  {
   "cell_type": "code",
   "execution_count": 246,
   "id": "c6a1a53c-e0b0-4df6-89d7-98c791f7dd34",
   "metadata": {},
   "outputs": [
    {
     "data": {
      "text/plain": [
       "BHK\n",
       "2     5353\n",
       "3     4575\n",
       "4      984\n",
       "1      565\n",
       "5      159\n",
       "6       77\n",
       "7       36\n",
       "8       24\n",
       "9       13\n",
       "10       4\n",
       "11       2\n",
       "16       1\n",
       "13       1\n",
       "Name: count, dtype: int64"
      ]
     },
     "execution_count": 246,
     "metadata": {},
     "output_type": "execute_result"
    }
   ],
   "source": [
    "df7['BHK'].value_counts()"
   ]
  },
  {
   "cell_type": "code",
   "execution_count": 247,
   "id": "8514b4e5-a0c4-4bac-9e86-97d026358f53",
   "metadata": {},
   "outputs": [
    {
     "name": "stdout",
     "output_type": "stream",
     "text": [
      "                 location        size  total_sqft  bath  price  BHK   \n",
      "0     1st Block Jayanagar       2 BHK      1000.0   3.0   60.0    2  \\\n",
      "1     1st Block Jayanagar       2 BHK      1235.0   2.0  148.0    2   \n",
      "2     1st Block Jayanagar       3 BHK      1630.0   3.0  194.0    3   \n",
      "3     1st Block Jayanagar       3 BHK      1875.0   2.0  235.0    3   \n",
      "4     1st Block Jayanagar       3 BHK      1200.0   2.0  130.0    3   \n",
      "...                   ...         ...         ...   ...    ...  ...   \n",
      "8383                other       9 BHK      4600.0   9.0  150.0    9   \n",
      "8384                other      10 BHK     12000.0  12.0  525.0   10   \n",
      "8385                other  10 Bedroom      3300.0   9.0  450.0   10   \n",
      "8386                other      11 BHK      5000.0   9.0  360.0   11   \n",
      "8387                other      11 BHK      6000.0  12.0  150.0   11   \n",
      "\n",
      "      price_per_sq.feet  \n",
      "0           6000.000000  \n",
      "1          11983.805668  \n",
      "2          11901.840491  \n",
      "3          12533.333333  \n",
      "4          10833.333333  \n",
      "...                 ...  \n",
      "8383        3260.869565  \n",
      "8384        4375.000000  \n",
      "8385       13636.363636  \n",
      "8386        7200.000000  \n",
      "8387        2500.000000  \n",
      "\n",
      "[8388 rows x 7 columns]\n"
     ]
    }
   ],
   "source": [
    "# using z score to remove outliers - the below removes outliers +- 1 std deviation\n",
    "import pandas as pd\n",
    "import numpy as np\n",
    "\n",
    "def remove_bhk_outliers(df):\n",
    "    # Define a function to remove outliers based on z-score\n",
    "    def remove_outliers_for_group(group):\n",
    "        # the below considers both +ve and -ve 2 std deviations form the mean, which includes 99.7% of all data points\n",
    "        return group[(np.abs((group['price_per_sq.feet'] - group['price_per_sq.feet'].mean()) / group['price_per_sq.feet'].std()) < 1)]\n",
    "            \n",
    "    # Apply the function to each group within each location\n",
    "    df_filtered = df.groupby(['location', 'BHK']).apply(remove_outliers_for_group)\n",
    "    \n",
    "    # Concatenate the filtered groups back into a single DataFrame\n",
    "    df_filtered = df_filtered.reset_index(drop=True)\n",
    "    \n",
    "    return df_filtered\n",
    "\n",
    "# Remove outliers\n",
    "df_filtered = remove_bhk_outliers(df7)\n",
    "print(df_filtered)\n"
   ]
  },
  {
   "cell_type": "code",
   "execution_count": 248,
   "id": "ff6d3002-9f04-468d-9f50-7fbac24b8b0e",
   "metadata": {},
   "outputs": [
    {
     "data": {
      "image/png": "[encoded data removed]",
      "text/plain": [
       "<Figure size 1500x1000 with 1 Axes>"
      ]
     },
     "metadata": {},
     "output_type": "display_data"
    }
   ],
   "source": [
    "plot_scatter_chart(df_filtered,\"Hebbal\")"
   ]
  },
  {
   "cell_type": "code",
   "execution_count": 249,
   "id": "6d1c62b1-eb44-4466-8662-23dee94d81ad",
   "metadata": {},
   "outputs": [
    {
     "data": {
      "text/plain": [
       "Index(['location', 'size', 'total_sqft', 'bath', 'price', 'BHK',\n",
       "       'price_per_sq.feet'],\n",
       "      dtype='object')"
      ]
     },
     "execution_count": 249,
     "metadata": {},
     "output_type": "execute_result"
    }
   ],
   "source": [
    "df_filtered.columns"
   ]
  },
  {
   "cell_type": "code",
   "execution_count": 250,
   "id": "49962ba5-5d8f-4ce9-a06e-43b604e22850",
   "metadata": {},
   "outputs": [
    {
     "data": {
      "text/plain": [
       "Text(0, 0.5, 'Count')"
      ]
     },
     "execution_count": 250,
     "metadata": {},
     "output_type": "execute_result"
    },
    {
     "data": {
      "image/png": "[encoded data removed]",
      "text/plain": [
       "<Figure size 2000x1000 with 1 Axes>"
      ]
     },
     "metadata": {},
     "output_type": "display_data"
    }
   ],
   "source": [
    "import matplotlib\n",
    "plt.rcParams[\"figure.figsize\"] = (20,10)\n",
    "plt.hist(df_filtered['price_per_sq.feet'],rwidth=0.8)\n",
    "plt.xlabel(\"Price Per Square Feet\")\n",
    "plt.ylabel(\"Count\")"
   ]
  },
  {
   "cell_type": "code",
   "execution_count": 251,
   "id": "9502c14b-674a-4ffe-be46-ad1bd135cbd8",
   "metadata": {},
   "outputs": [],
   "source": [
    "df9 = df_filtered[df_filtered.bath<df_filtered.BHK+2]\n"
   ]
  },
  {
   "cell_type": "code",
   "execution_count": 252,
   "id": "f5ad367a-f20d-4004-937d-871a2f120b54",
   "metadata": {},
   "outputs": [
    {
     "data": {
      "text/plain": [
       "(8316, 7)"
      ]
     },
     "execution_count": 252,
     "metadata": {},
     "output_type": "execute_result"
    }
   ],
   "source": [
    "df9.shape"
   ]
  },
  {
   "cell_type": "code",
   "execution_count": 253,
   "id": "be47c8f9-494b-492c-a6d0-645b32d7d4ba",
   "metadata": {},
   "outputs": [
    {
     "data": {
      "text/plain": [
       "(8388, 7)"
      ]
     },
     "execution_count": 253,
     "metadata": {},
     "output_type": "execute_result"
    }
   ],
   "source": [
    "df_filtered.shape"
   ]
  },
  {
   "cell_type": "code",
   "execution_count": 254,
   "id": "e643f998-35cc-48d7-b6d2-a8b3d937f6b1",
   "metadata": {},
   "outputs": [
    {
     "data": {
      "text/plain": [
       "Index(['location', 'size', 'total_sqft', 'bath', 'price', 'BHK',\n",
       "       'price_per_sq.feet'],\n",
       "      dtype='object')"
      ]
     },
     "execution_count": 254,
     "metadata": {},
     "output_type": "execute_result"
    }
   ],
   "source": [
    "df9.columns\n"
   ]
  },
  {
   "cell_type": "code",
   "execution_count": 256,
   "id": "b2589d05-d43a-4f59-b5d7-7ffc21d78e84",
   "metadata": {},
   "outputs": [],
   "source": [
    "df10 = df9.drop(['size','price_per_sq.feet'], axis = 'columns')"
   ]
  },
  {
   "cell_type": "code",
   "execution_count": null,
   "id": "580418a2-c4fe-4e28-a100-b033d6ea3be5",
   "metadata": {},
   "outputs": [],
   "source": []
  }
 ],
 "metadata": {
  "kernelspec": {
   "display_name": "Python 3 (ipykernel)",
   "language": "python",
   "name": "python3"
  },
  "language_info": {
   "codemirror_mode": {
    "name": "ipython",
    "version": 3
   },
   "file_extension": ".py",
   "mimetype": "text/x-python",
   "name": "python",
   "nbconvert_exporter": "python",
   "pygments_lexer": "ipython3",
   "version": "3.8.10"
  }
 },
 "nbformat": 4,
 "nbformat_minor": 5
}
