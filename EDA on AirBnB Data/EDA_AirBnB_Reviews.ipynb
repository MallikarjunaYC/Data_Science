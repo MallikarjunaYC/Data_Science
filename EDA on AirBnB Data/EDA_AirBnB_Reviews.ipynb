{
 "cells": [
  {
   "cell_type": "code",
   "execution_count": 40,
   "id": "464bb638",
   "metadata": {},
   "outputs": [],
   "source": [
    "import numpy as np\n",
    "import pandas as pd\n",
    "import matplotlib.pyplot as plt\n",
    "import seaborn as sns"
   ]
  },
  {
   "cell_type": "code",
   "execution_count": 41,
   "id": "d737a903",
   "metadata": {},
   "outputs": [],
   "source": [
    "df = pd.read_csv(\"AB_NYC_2019.csv\")"
   ]
  },
  {
   "cell_type": "code",
   "execution_count": 42,
   "id": "fb1240a5",
   "metadata": {},
   "outputs": [
    {
     "data": {
      "text/html": [
       "<div>\n",
       "<style scoped>\n",
       "    .dataframe tbody tr th:only-of-type {\n",
       "        vertical-align: middle;\n",
       "    }\n",
       "\n",
       "    .dataframe tbody tr th {\n",
       "        vertical-align: top;\n",
       "    }\n",
       "\n",
       "    .dataframe thead th {\n",
       "        text-align: right;\n",
       "    }\n",
       "</style>\n",
       "<table border=\"1\" class=\"dataframe\">\n",
       "  <thead>\n",
       "    <tr style=\"text-align: right;\">\n",
       "      <th></th>\n",
       "      <th>id</th>\n",
       "      <th>name</th>\n",
       "      <th>host_id</th>\n",
       "      <th>host_name</th>\n",
       "      <th>neighbourhood_group</th>\n",
       "      <th>neighbourhood</th>\n",
       "      <th>latitude</th>\n",
       "      <th>longitude</th>\n",
       "      <th>room_type</th>\n",
       "      <th>price</th>\n",
       "      <th>minimum_nights</th>\n",
       "      <th>number_of_reviews</th>\n",
       "      <th>last_review</th>\n",
       "      <th>reviews_per_month</th>\n",
       "      <th>calculated_host_listings_count</th>\n",
       "      <th>availability_365</th>\n",
       "    </tr>\n",
       "  </thead>\n",
       "  <tbody>\n",
       "    <tr>\n",
       "      <th>0</th>\n",
       "      <td>2539</td>\n",
       "      <td>Clean &amp; quiet apt home by the park</td>\n",
       "      <td>2787</td>\n",
       "      <td>John</td>\n",
       "      <td>Brooklyn</td>\n",
       "      <td>Kensington</td>\n",
       "      <td>40.64749</td>\n",
       "      <td>-73.97237</td>\n",
       "      <td>Private room</td>\n",
       "      <td>149</td>\n",
       "      <td>1</td>\n",
       "      <td>9</td>\n",
       "      <td>2018-10-19</td>\n",
       "      <td>0.21</td>\n",
       "      <td>6</td>\n",
       "      <td>365</td>\n",
       "    </tr>\n",
       "    <tr>\n",
       "      <th>1</th>\n",
       "      <td>2595</td>\n",
       "      <td>Skylit Midtown Castle</td>\n",
       "      <td>2845</td>\n",
       "      <td>Jennifer</td>\n",
       "      <td>Manhattan</td>\n",
       "      <td>Midtown</td>\n",
       "      <td>40.75362</td>\n",
       "      <td>-73.98377</td>\n",
       "      <td>Entire home/apt</td>\n",
       "      <td>225</td>\n",
       "      <td>1</td>\n",
       "      <td>45</td>\n",
       "      <td>2019-05-21</td>\n",
       "      <td>0.38</td>\n",
       "      <td>2</td>\n",
       "      <td>355</td>\n",
       "    </tr>\n",
       "    <tr>\n",
       "      <th>2</th>\n",
       "      <td>3647</td>\n",
       "      <td>THE VILLAGE OF HARLEM....NEW YORK !</td>\n",
       "      <td>4632</td>\n",
       "      <td>Elisabeth</td>\n",
       "      <td>Manhattan</td>\n",
       "      <td>Harlem</td>\n",
       "      <td>40.80902</td>\n",
       "      <td>-73.94190</td>\n",
       "      <td>Private room</td>\n",
       "      <td>150</td>\n",
       "      <td>3</td>\n",
       "      <td>0</td>\n",
       "      <td>NaN</td>\n",
       "      <td>NaN</td>\n",
       "      <td>1</td>\n",
       "      <td>365</td>\n",
       "    </tr>\n",
       "    <tr>\n",
       "      <th>3</th>\n",
       "      <td>3831</td>\n",
       "      <td>Cozy Entire Floor of Brownstone</td>\n",
       "      <td>4869</td>\n",
       "      <td>LisaRoxanne</td>\n",
       "      <td>Brooklyn</td>\n",
       "      <td>Clinton Hill</td>\n",
       "      <td>40.68514</td>\n",
       "      <td>-73.95976</td>\n",
       "      <td>Entire home/apt</td>\n",
       "      <td>89</td>\n",
       "      <td>1</td>\n",
       "      <td>270</td>\n",
       "      <td>2019-07-05</td>\n",
       "      <td>4.64</td>\n",
       "      <td>1</td>\n",
       "      <td>194</td>\n",
       "    </tr>\n",
       "    <tr>\n",
       "      <th>4</th>\n",
       "      <td>5022</td>\n",
       "      <td>Entire Apt: Spacious Studio/Loft by central park</td>\n",
       "      <td>7192</td>\n",
       "      <td>Laura</td>\n",
       "      <td>Manhattan</td>\n",
       "      <td>East Harlem</td>\n",
       "      <td>40.79851</td>\n",
       "      <td>-73.94399</td>\n",
       "      <td>Entire home/apt</td>\n",
       "      <td>80</td>\n",
       "      <td>10</td>\n",
       "      <td>9</td>\n",
       "      <td>2018-11-19</td>\n",
       "      <td>0.10</td>\n",
       "      <td>1</td>\n",
       "      <td>0</td>\n",
       "    </tr>\n",
       "  </tbody>\n",
       "</table>\n",
       "</div>"
      ],
      "text/plain": [
       "     id                                              name  host_id  \\\n",
       "0  2539                Clean & quiet apt home by the park     2787   \n",
       "1  2595                             Skylit Midtown Castle     2845   \n",
       "2  3647               THE VILLAGE OF HARLEM....NEW YORK !     4632   \n",
       "3  3831                   Cozy Entire Floor of Brownstone     4869   \n",
       "4  5022  Entire Apt: Spacious Studio/Loft by central park     7192   \n",
       "\n",
       "     host_name neighbourhood_group neighbourhood  latitude  longitude  \\\n",
       "0         John            Brooklyn    Kensington  40.64749  -73.97237   \n",
       "1     Jennifer           Manhattan       Midtown  40.75362  -73.98377   \n",
       "2    Elisabeth           Manhattan        Harlem  40.80902  -73.94190   \n",
       "3  LisaRoxanne            Brooklyn  Clinton Hill  40.68514  -73.95976   \n",
       "4        Laura           Manhattan   East Harlem  40.79851  -73.94399   \n",
       "\n",
       "         room_type  price  minimum_nights  number_of_reviews last_review  \\\n",
       "0     Private room    149               1                  9  2018-10-19   \n",
       "1  Entire home/apt    225               1                 45  2019-05-21   \n",
       "2     Private room    150               3                  0         NaN   \n",
       "3  Entire home/apt     89               1                270  2019-07-05   \n",
       "4  Entire home/apt     80              10                  9  2018-11-19   \n",
       "\n",
       "   reviews_per_month  calculated_host_listings_count  availability_365  \n",
       "0               0.21                               6               365  \n",
       "1               0.38                               2               355  \n",
       "2                NaN                               1               365  \n",
       "3               4.64                               1               194  \n",
       "4               0.10                               1                 0  "
      ]
     },
     "execution_count": 42,
     "metadata": {},
     "output_type": "execute_result"
    }
   ],
   "source": [
    "df.head()"
   ]
  },
  {
   "cell_type": "code",
   "execution_count": 43,
   "id": "d5b9492c",
   "metadata": {},
   "outputs": [
    {
     "data": {
      "text/plain": [
       "Index(['id', 'name', 'host_id', 'host_name', 'neighbourhood_group',\n",
       "       'neighbourhood', 'latitude', 'longitude', 'room_type', 'price',\n",
       "       'minimum_nights', 'number_of_reviews', 'last_review',\n",
       "       'reviews_per_month', 'calculated_host_listings_count',\n",
       "       'availability_365'],\n",
       "      dtype='object')"
      ]
     },
     "execution_count": 43,
     "metadata": {},
     "output_type": "execute_result"
    }
   ],
   "source": [
    "df.columns\n"
   ]
  },
  {
   "cell_type": "markdown",
   "id": "4cd4803c",
   "metadata": {},
   "source": [
    "which rooms fetch the max price? interms of latitude and logintude, reviews of the rooms which have highest rating, they belong to which neighbourhood and group"
   ]
  },
  {
   "cell_type": "code",
   "execution_count": 44,
   "id": "41761fc2",
   "metadata": {},
   "outputs": [
    {
     "name": "stdout",
     "output_type": "stream",
     "text": [
      "      host_name  price        room_type  latitude  longitude  \\\n",
      "9151   Kathrine  10000     Private room  40.76810  -73.91651   \n",
      "17692      Erin  10000  Entire home/apt  40.73260  -73.95739   \n",
      "29238    Jelena  10000  Entire home/apt  40.77213  -73.98665   \n",
      "\n",
      "      neighbourhood_group    neighbourhood  number_of_reviews  \n",
      "9151               Queens          Astoria                  2  \n",
      "17692            Brooklyn       Greenpoint                  5  \n",
      "29238           Manhattan  Upper West Side                  0  \n"
     ]
    }
   ],
   "source": [
    "max_price_room = df['price'].max()  # Define your condition\n",
    "# Create a boolean condition for rows where the price is equal to the maximum price \n",
    "# otherwise the result is based on the value returned by the max() query \n",
    "# where as it should actually search based on the index of the max price of a room \n",
    "condition = df['price'] == max_price_room\n",
    "selected_columns = df.loc[condition, ['host_name','price','room_type','latitude', 'longitude', 'neighbourhood_group', \\\n",
    "                                      'neighbourhood', 'number_of_reviews' ]]  # Select columns based on the condition\n",
    "print(selected_columns)\n",
    "\n",
    "\n"
   ]
  },
  {
   "cell_type": "markdown",
   "id": "c996c6d5",
   "metadata": {},
   "source": [
    "from the data\n",
    "- reviews does not have a bearing on the max room rent\n",
    "- all of the rooms are closely situated"
   ]
  },
  {
   "cell_type": "markdown",
   "id": "78d2c42c",
   "metadata": {},
   "source": [
    "# top-performing hosts and factors contributing to their success."
   ]
  },
  {
   "cell_type": "markdown",
   "id": "887ebec8",
   "metadata": {},
   "source": [
    "# number of reviews and availability of top performing host"
   ]
  },
  {
   "cell_type": "code",
   "execution_count": 45,
   "id": "a31fb945",
   "metadata": {},
   "outputs": [
    {
     "name": "stdout",
     "output_type": "stream",
     "text": [
      "112.78132733408324\n"
     ]
    }
   ],
   "source": [
    "# average availability\n",
    "avg_availability = df['availability_365'].mean()\n",
    "print(avg_availability)"
   ]
  },
  {
   "cell_type": "code",
   "execution_count": 46,
   "id": "3a154459",
   "metadata": {},
   "outputs": [
    {
     "name": "stdout",
     "output_type": "stream",
     "text": [
      "Top-performing host:\n",
      "Host Name: Blueground\n",
      "Total Revenue: 2258580\n",
      "Number of Reviews: 29\n",
      "Average Availability (in days): 253.81034482758622\n"
     ]
    }
   ],
   "source": [
    "# Calculate revenue for each row\n",
    "df['revenue'] = df['price'] * df['minimum_nights']\n",
    "\n",
    "# Group by 'host_name' and sum the revenue\n",
    "revenue_by_host = df.groupby(['host_name', 'room_type'])['revenue'].sum().reset_index()\n",
    "\n",
    "# Find the top-performing host\n",
    "top_host = revenue_by_host.loc[revenue_by_host['revenue'].idxmax()]\n",
    "\n",
    "# Extract the host_name of the top-performing host\n",
    "top_host_name = top_host['host_name']\n",
    "\n",
    "# Filter the original DataFrame for the top-performing host\n",
    "top_host_info = df[df['host_name'] == top_host_name]\n",
    "\n",
    "# Calculate the number of reviews and availability_365 for the top-performing host\n",
    "num_reviews = top_host_info['number_of_reviews'].sum()\n",
    "availability_365 = top_host_info['availability_365'].mean()\n",
    "\n",
    "# Display the results\n",
    "print(\"Top-performing host:\")\n",
    "print(\"Host Name:\", top_host_name)\n",
    "print(\"Total Revenue:\", top_host['revenue'])\n",
    "print(\"Number of Reviews:\", num_reviews)\n",
    "print(\"Average Availability (in days):\", availability_365)\n"
   ]
  },
  {
   "cell_type": "markdown",
   "id": "39238f7f",
   "metadata": {},
   "source": [
    "the data suggests that the reviews are low even though the revenue is high. Also the availability is more than twice the average."
   ]
  },
  {
   "cell_type": "markdown",
   "id": "81434dc8",
   "metadata": {},
   "source": [
    "# number of reviews and availability of worst performing host by revenue"
   ]
  },
  {
   "cell_type": "code",
   "execution_count": 47,
   "id": "421f4c79",
   "metadata": {},
   "outputs": [
    {
     "name": "stdout",
     "output_type": "stream",
     "text": [
      "Worst-performing host details:\n",
      "Host Name: Aymeric\n",
      "Total Revenue: 0\n",
      "Number of Reviews: 3\n",
      "Average Availability (in days): 73.0\n"
     ]
    }
   ],
   "source": [
    "# Find the top-performing host\n",
    "worst_host = revenue_by_host.loc[revenue_by_host['revenue'].idxmin()]\n",
    "\n",
    "# Extract the host_name of the top-performing host\n",
    "worst_host_name = worst_host['host_name']\n",
    "\n",
    "# Filter the original DataFrame for the top-performing host\n",
    "worst_host_info = df[df['host_name'] == worst_host_name]\n",
    "\n",
    "# Calculate the number of reviews and availability_365 for the top-performing host\n",
    "num_reviews = worst_host_info['number_of_reviews'].sum()\n",
    "availability_365 = worst_host_info['availability_365'].mean()\n",
    "\n",
    "# Display the results\n",
    "print(\"Worst-performing host details:\")\n",
    "print(\"Host Name:\", worst_host_name)\n",
    "print(\"Total Revenue:\", worst_host['revenue'])\n",
    "print(\"Number of Reviews:\", num_reviews)\n",
    "print(\"Average Availability (in days):\", availability_365)"
   ]
  },
  {
   "cell_type": "markdown",
   "id": "4f1c304f",
   "metadata": {},
   "source": [
    "comparison between top performing and worst performing host\n",
    "- the availability of the rooms is almost four times the worst performing host and the reviews is also 10 times than the worst perforing host\n",
    "- the number of reviews is much higher as expected, since worst performing host does not have any bookings\n"
   ]
  },
  {
   "cell_type": "markdown",
   "id": "9276edc2",
   "metadata": {},
   "source": [
    "# Is revenue affected by reviews?"
   ]
  },
  {
   "cell_type": "markdown",
   "id": "e8ae20d9",
   "metadata": {},
   "source": [
    "# host with max review"
   ]
  },
  {
   "cell_type": "code",
   "execution_count": 48,
   "id": "e0ea2026",
   "metadata": {},
   "outputs": [
    {
     "name": "stdout",
     "output_type": "stream",
     "text": [
      "Maximum number of reviews: 629\n",
      "Host name(s) with the maximum number of reviews:\n",
      "Dona\n",
      "Revenue of host 'Dona': 94\n"
     ]
    }
   ],
   "source": [
    "# Find the maximum number of reviews\n",
    "max_reviews = df['number_of_reviews'].max()\n",
    "\n",
    "# Filter the DataFrame to find the row(s) where number_of_reviews matches the maximum value\n",
    "max_reviews_hosts = df[df['number_of_reviews'] == max_reviews]\n",
    "\n",
    "# Print the maximum number of reviews\n",
    "print(\"Maximum number of reviews:\", max_reviews)\n",
    "\n",
    "# Print the host name(s) associated with the maximum number of reviews\n",
    "print(\"Host name(s) with the maximum number of reviews:\")\n",
    "for host_name in max_reviews_hosts['host_name']:\n",
    "    print(host_name)\n",
    "\n",
    "# Filter the DataFrame for host_name = 'Dona'\n",
    "dona_revenue = df[df['host_name'] == 'Dona']['revenue'].sum()\n",
    "\n",
    "# Print the revenue\n",
    "print(\"Revenue of host 'Dona':\", dona_revenue)"
   ]
  },
  {
   "cell_type": "markdown",
   "id": "56948463",
   "metadata": {},
   "source": [
    "# host with max revenue"
   ]
  },
  {
   "cell_type": "code",
   "execution_count": 49,
   "id": "10b694da",
   "metadata": {},
   "outputs": [
    {
     "name": "stdout",
     "output_type": "stream",
     "text": [
      "Maximum revenue: 1170000\n",
      "Host name(s) with the maximum revenue:\n",
      "Jenny\n",
      "Revenue of host 'Jenny': 1215111\n",
      "Reviews of host 'Jenny' property: 66\n"
     ]
    }
   ],
   "source": [
    "# Find the maximum number of reviews\n",
    "# finds one trasaction which is max\n",
    "max_revenue = df['revenue'].max()\n",
    "\n",
    "# Filter the DataFrame to find the row(s) where number_of_reviews matches the maximum value\n",
    "max_revenue_host = df[df['revenue'] == max_revenue]\n",
    "\n",
    "# Print the maximum number of reviews\n",
    "print(\"Maximum revenue:\", max_revenue)\n",
    "\n",
    "# Print the host name(s) associated with the maximum number of reviews\n",
    "print(\"Host name(s) with the maximum revenue:\")\n",
    "for host_name in max_revenue_host['host_name']:\n",
    "    print(host_name)\n",
    "    \n",
    "# Filter the DataFrame for host_name = 'Jenny'\n",
    "# \n",
    "Jenny_revenue = df[df['host_name'] == 'Jenny']['revenue'].sum()\n",
    "\n",
    "# Print the revenue\n",
    "print(\"Revenue of host 'Jenny':\", Jenny_revenue)\n",
    "\n",
    "# Filter the DataFrame for host_name = 'Jenny'\n",
    "Jenny_reviews = df[df['host_name'] == 'Jenny']['number_of_reviews'].count()\n",
    "\n",
    "# Print the revenue\n",
    "print(\"Reviews of host 'Jenny' property:\", Jenny_reviews)\n"
   ]
  },
  {
   "cell_type": "markdown",
   "id": "a6d67620",
   "metadata": {},
   "source": [
    "by the above, we can find that the revenues are not influenced by the reviews \n",
    "- Host with high revenue does not have max reviews\n",
    "- Host with highest reviews has low revenue\n",
    "\n"
   ]
  },
  {
   "cell_type": "code",
   "execution_count": null,
   "id": "7fd91bf6",
   "metadata": {},
   "outputs": [],
   "source": []
  }
 ],
 "metadata": {
  "kernelspec": {
   "display_name": "Python 3 (ipykernel)",
   "language": "python",
   "name": "python3"
  },
  "language_info": {
   "codemirror_mode": {
    "name": "ipython",
    "version": 3
   },
   "file_extension": ".py",
   "mimetype": "text/x-python",
   "name": "python",
   "nbconvert_exporter": "python",
   "pygments_lexer": "ipython3",
   "version": "3.10.3"
  }
 },
 "nbformat": 4,
 "nbformat_minor": 5
}
