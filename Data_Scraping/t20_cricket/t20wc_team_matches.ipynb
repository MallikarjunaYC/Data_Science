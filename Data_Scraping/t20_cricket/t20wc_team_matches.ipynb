{
 "cells": [
  {
   "cell_type": "code",
   "execution_count": 26,
   "id": "1e0daf9e",
   "metadata": {},
   "outputs": [],
   "source": [
    "# the below gets\n",
    "# in df, all the t20 wc matches"
   ]
  },
  {
   "cell_type": "code",
   "execution_count": 27,
   "id": "ad6dac99",
   "metadata": {},
   "outputs": [],
   "source": [
    "# import the necessary libraries\n",
    "from bs4 import BeautifulSoup\n",
    "import requests\n",
    "import pandas as pd"
   ]
  },
  {
   "cell_type": "code",
   "execution_count": 28,
   "id": "1afe52a8",
   "metadata": {},
   "outputs": [],
   "source": [
    "# the url gives the individual match details for the entire t20 wc\n",
    "t20_wc_matches_URL = \"https://www.espncricinfo.com/records/tournament/team-match-results/icc-men-s-t20-world-cup-2022-23-14450\"\n",
    "# header is used to mimic a real user\n",
    "header = ({'User-Agent' : 'Mozilla/5.0 (Windows NT 10.0; Win64; x64) AppleWebKit/537.36 (KHTML, like Gecko) Chrome/118.0.0.0 Safari/537.36', 'Accept-Language' : 'eng-US'\n",
    "            })"
   ]
  },
  {
   "cell_type": "code",
   "execution_count": 29,
   "id": "62b3ad7c",
   "metadata": {},
   "outputs": [],
   "source": [
    " # the below gives the table of all t20 wc matches\n",
    "\n",
    "# access the page with the soup object\n",
    "webpage = requests.get(t20_wc_matches_URL, headers=header)\n",
    "t20_wc_matches_soup = BeautifulSoup(webpage.content, 'html.parser')\n",
    "\n",
    "# put all the tables in the page in a variable\n",
    "t20_wc_matches_tables = t20_wc_matches_soup.find_all('table')\n",
    "# print(len(t20_wc_matches_tables))\n",
    "\n",
    "# read the table and convert to a df\n",
    "t20_wc_matches_df = pd.read_html(str(t20_wc_matches_tables), header=0)[0]\n",
    "# print(t20_wc_matches_df)\n",
    "\n",
    "# ______________________________________________________________________________\n",
    "# export the df to csv\n",
    "t20_wc_matches_df.to_csv('t20_wc_matches_list.csv', index=False)\n",
    "#store t20_wc_matches_df"
   ]
  }
 ],
 "metadata": {
  "kernelspec": {
   "display_name": "Python 3 (ipykernel)",
   "language": "python",
   "name": "python3"
  },
  "language_info": {
   "codemirror_mode": {
    "name": "ipython",
    "version": 3
   },
   "file_extension": ".py",
   "mimetype": "text/x-python",
   "name": "python",
   "nbconvert_exporter": "python",
   "pygments_lexer": "ipython3",
   "version": "3.10.3"
  }
 },
 "nbformat": 4,
 "nbformat_minor": 5
}
